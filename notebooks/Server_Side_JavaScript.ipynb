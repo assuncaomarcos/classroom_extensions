{
  "nbformat": 4,
  "nbformat_minor": 0,
  "metadata": {
    "colab": {
      "provenance": [],
      "toc_visible": true,
      "authorship_tag": "ABX9TyMZp4xbI6U7Y0NyRiyFk4tU",
      "include_colab_link": true
    },
    "kernelspec": {
      "name": "python3",
      "display_name": "Python 3"
    },
    "language_info": {
      "name": "python"
    }
  },
  "cells": [
    {
      "cell_type": "markdown",
      "metadata": {
        "id": "view-in-github",
        "colab_type": "text"
      },
      "source": [
        "<a href=\"https://colab.research.google.com/github/assuncaomarcos/classroom_extensions/blob/main/notebooks/Server_Side_JavaScript.ipynb\" target=\"_parent\"><img src=\"https://colab.research.google.com/assets/colab-badge.svg\" alt=\"Open In Colab\"/></a>"
      ]
    },
    {
      "cell_type": "markdown",
      "source": [
        "# Node.js Extension\n",
        "--------------------\n",
        "\n",
        "This notebook demonstrates how to use the Node extension to run JavaScript on the node hosting the notebook and the customizations to the `%%javascript` cell magic."
      ],
      "metadata": {
        "id": "-PV4vvDekek-"
      }
    },
    {
      "cell_type": "markdown",
      "source": [
        "## Installing the Classroom Extensions\n",
        "------------------\n",
        "\n",
        "We will install the extensions via pip+github:"
      ],
      "metadata": {
        "id": "cg9491ptfY3F"
      }
    },
    {
      "cell_type": "code",
      "source": [
        "!pip3 install classroom-extensions"
      ],
      "metadata": {
        "id": "jMsvHv89fjeQ"
      },
      "execution_count": null,
      "outputs": []
    },
    {
      "cell_type": "markdown",
      "source": [
        "Once the extensions are installed, you can load the `node` extension to customize the `%%javascript` cell magic:"
      ],
      "metadata": {
        "id": "5sAuvfTXfl2P"
      }
    },
    {
      "cell_type": "code",
      "source": [
        "%load_ext classroom_extensions.node"
      ],
      "metadata": {
        "id": "9iH0Qj0Ok-1C"
      },
      "execution_count": 2,
      "outputs": []
    },
    {
      "cell_type": "markdown",
      "source": [
        "## Server-Side JavaScript\n",
        "\n",
        "The extension adds a few parameters to the `%%javascript` magic:\n",
        "\n",
        "* `-t | --target`: specifies where the script must run or be stored. The possible choices are `browser`, `node`, and `disk`. The default value is `browser`, which is the default behavior of letting the browser execute the code pushed to the result section of the cell. When specifying `node`, the cell contents will be saved to a file on the Jupyter server running the notebook and executed using Node.js. The option `disk` is a helper that stores the cell contents into a file. It is similar to `%%writefile` but allows for syntax highlight when running on Colab.\n",
        "\n",
        "* `-f | --filename`: specifies the filename to save the cell contents for execution.\n",
        "\n",
        "* `-p |--port`: the port number in case the JavaScript code will launch a server listing to a given port. The value of this parameter gets exported to a `NODE_PORT` environment variable that the JavaScript code can use.\n",
        "\n",
        "The following provides a few examples:"
      ],
      "metadata": {
        "id": "1GH3vHXAlB1q"
      }
    },
    {
      "cell_type": "code",
      "source": [
        "%%javascript --target=node --filename=example1.js\n",
        "\n",
        "const fs = require('fs');\n",
        "\n",
        "const filePath = '/etc/lsb-release';\n",
        "\n",
        "fs.readFile(filePath, 'utf8', (err, data) => {\n",
        "  if (err) {\n",
        "    console.error(`Error reading file: ${err}`);\n",
        "    return;\n",
        "  }\n",
        "\n",
        "  console.log('File contents:');\n",
        "  console.log(data);\n",
        "});"
      ],
      "metadata": {
        "colab": {
          "base_uri": "https://localhost:8080/"
        },
        "id": "KQ9m2GEElHFD",
        "outputId": "270a4d54-c2de-401b-bc30-c58fe5ddaf75"
      },
      "execution_count": 3,
      "outputs": [
        {
          "output_type": "stream",
          "name": "stdout",
          "text": [
            "File contents:\n",
            "DISTRIB_ID=Ubuntu\n",
            "DISTRIB_RELEASE=22.04\n",
            "DISTRIB_CODENAME=jammy\n",
            "DISTRIB_DESCRIPTION=\"Ubuntu 22.04.2 LTS\"\n",
            "\n"
          ]
        }
      ]
    },
    {
      "cell_type": "code",
      "source": [
        "%%javascript --target=node --filename=http_server.js --port=3000\n",
        "\n",
        "const http = require('http');\n",
        "\n",
        "const hostname = 'localhost';\n",
        "const port = process.env.NODE_PORT || 3000;\n",
        "\n",
        "const server = http.createServer((req, res) => {\n",
        "    res.statusCode = 200\n",
        "    res.setHeader('Content-Type', 'text/plain')\n",
        "    res.end('Hello World!\\n')\n",
        "});\n",
        "\n",
        "server.listen(port, hostname, () => {\n",
        "    console.log(`Server listening at https://${hostname}:${port}/`)\n",
        "});"
      ],
      "metadata": {
        "colab": {
          "base_uri": "https://localhost:8080/"
        },
        "id": "Ma6NKWFrogVm",
        "outputId": "03498205-ac0b-4dc3-c8a1-d1e876cf6713"
      },
      "execution_count": 4,
      "outputs": [
        {
          "output_type": "stream",
          "name": "stdout",
          "text": [
            "Server listening at https://localhost:3000/\n"
          ]
        }
      ]
    },
    {
      "cell_type": "markdown",
      "source": [
        "The extension will automatically kill any node process previously started to listen on the provided port. When running on Colab, you can expose the proxy address that makes the server accessible from outside (on Chrome):"
      ],
      "metadata": {
        "id": "65rZ4hF9pYRg"
      }
    },
    {
      "cell_type": "code",
      "source": [
        "from google.colab.output import eval_js\n",
        "print(eval_js(\"google.colab.kernel.proxyPort(3000)\"))"
      ],
      "metadata": {
        "colab": {
          "base_uri": "https://localhost:8080/",
          "height": 34
        },
        "id": "ic0Y9-rdqENh",
        "outputId": "45c71df6-4384-4a53-cf7a-e07b3783bf7c"
      },
      "execution_count": 5,
      "outputs": [
        {
          "output_type": "stream",
          "name": "stdout",
          "text": [
            "https://hye6of32s8c-496ff2e9c6d22116-3000-colab.googleusercontent.com/\n"
          ]
        }
      ]
    },
    {
      "cell_type": "markdown",
      "source": [
        "To simply save a given file while benefiting from syntax highlighting on Colab:"
      ],
      "metadata": {
        "id": "D0DcpPjOqSNc"
      }
    },
    {
      "cell_type": "code",
      "source": [
        "%%javascript --target=disk --filename=formatdate.js\n",
        "\n",
        "const ordinal = require(\"ordinal\");\n",
        "const {days, months} = require(\"date-names\");\n",
        "\n",
        "exports.formatDate = function(date, format) {\n",
        "    return format.replace(/YYYY|M(MMM)?|Do?|dddd/g, tag => {\n",
        "        if (tag == \"YYYY\") return date.getFullYear();\n",
        "        if (tag == \"M\") return date.getMonth();\n",
        "        if (tag == \"MMMM\") return months[date.getMonth()];\n",
        "        if (tag == \"D\") return date.getDate();\n",
        "        if (tag == \"Do\") return ordinal(date.getDate());\n",
        "        if (tag == \"dddd\") return days[date.getDay()];\n",
        "    });\n",
        "};"
      ],
      "metadata": {
        "id": "JDT0J6zZqfXV"
      },
      "execution_count": 6,
      "outputs": []
    },
    {
      "cell_type": "code",
      "source": [
        "!npm install ordinal\n",
        "!npm install date-names"
      ],
      "metadata": {
        "id": "Lpb8-sDUrRzd"
      },
      "execution_count": null,
      "outputs": []
    },
    {
      "cell_type": "code",
      "source": [
        "%%javascript --target=node --filename=use_formatdate.js\n",
        "\n",
        "const {formatDate} = require(\"./formatdate\");\n",
        "console.log(formatDate(new Date(2023, 5, 10), \"MMMM, dddd the Do\"));"
      ],
      "metadata": {
        "colab": {
          "base_uri": "https://localhost:8080/"
        },
        "id": "s5rMImQUrOJb",
        "outputId": "65d398be-ece2-4796-a6d0-7b721ce4d06a"
      },
      "execution_count": 8,
      "outputs": [
        {
          "output_type": "stream",
          "name": "stdout",
          "text": [
            "June, Saturday the 10th\n"
          ]
        }
      ]
    },
    {
      "cell_type": "markdown",
      "source": [
        "## Browser-Side JavaScript with Console"
      ],
      "metadata": {
        "id": "zYCbufgKr5yL"
      }
    },
    {
      "cell_type": "markdown",
      "source": [
        "The extension also customizes the `%%javascript` magic so that the result section of the cell mimics the browser's console. The results to calls to the main console methods will display their results in the output of the cell:"
      ],
      "metadata": {
        "id": "fFOAn0qFsMjd"
      }
    },
    {
      "cell_type": "code",
      "source": [
        "%%javascript\n",
        "\n",
        "console.log(\"This is a log message\");\n",
        "console.warn(\"This is a warning message\");\n",
        "console.error(\"This is an error message\");\n",
        "\n",
        "console.log(\"This is another log message\");\n",
        "console.error(\"This is another error message\");"
      ],
      "metadata": {
        "colab": {
          "base_uri": "https://localhost:8080/",
          "height": 130
        },
        "id": "jSKpEhrGsomv",
        "outputId": "d23d0b66-8a39-4fbd-da43-f35f83118e9d"
      },
      "execution_count": 9,
      "outputs": [
        {
          "output_type": "display_data",
          "data": {
            "text/plain": [
              "<classroom_extensions.node.JavascriptWithConsole object>"
            ],
            "application/javascript": [
              "\n",
              "function c_msg(type, o_func, ...args) {\n",
              "    let p = document.createElement(\"p\");\n",
              "    p.classList.add(`console-${type}`);\n",
              "    p.textContent = args.join(\" \");\n",
              "    document.getElementById('console-box').appendChild(p);\n",
              "    o_func(...args);\n",
              "}\n",
              "\n",
              "const o_log = console.log.bind(console)\n",
              "const o_error = console.error.bind(console);\n",
              "const o_warn = console.warn.bind(console);\n",
              "\n",
              "console.log = c_msg.bind(console, 'log', o_log);\n",
              "console.error = c_msg.bind(console, 'error', o_error);\n",
              "console.warn = c_msg.bind(console, 'warn', o_warn);\n",
              "\n",
              "window.addEventListener(\"error\", (event) => {\n",
              "    console.error(`${event.type}: ${event.message}`);\n",
              "});\n",
              "\n",
              "var console_elems = {}\n",
              "console_elems.stl = document.createElement('style');\n",
              "console_elems.stl.textContent = `\n",
              ":root {\n",
              "    --font-log: Consolas, Monaco, 'Courier New', monospace;\n",
              "}\n",
              "\n",
              ".console-box {\n",
              "    max-width: 70vw;\n",
              "}\n",
              "\n",
              ".console-error, .console-log, .console-warn {\n",
              "    font-family: var(--font-log);\n",
              "    white-space: nowrap;\n",
              "    font-weight: 520;\n",
              "    font-size: 0.9rem;\n",
              "    line-height: 1.1rem;\n",
              "    padding: 2px 10px;\n",
              "    overflow-y: auto;\n",
              "    border-bottom: 1px solid #A9A9A9;\n",
              "    color: black;\n",
              "    margin: 0;\n",
              "}\n",
              "\n",
              ".console-error {\n",
              "    color: #8B0000;\n",
              "    border-bottom-color: #FFC0CB;\n",
              "    background-color: #FFE4E1;\n",
              "}\n",
              "\n",
              ".console-warn {\n",
              "    color: #A0522D;\n",
              "    border-bottom-color: #FFDEAD;\n",
              "    background-color: #FFFACD;\n",
              "}\n",
              "\n",
              "@media (max-width: 600px) {\n",
              "    .console-box {\n",
              "        max-width: 95vw;\n",
              "    }\n",
              "}\n",
              "\n",
              "@media (max-width: 992px) {\n",
              "    .console-box {\n",
              "        max-width: 90vw;\n",
              "    }\n",
              "}\n",
              "\n",
              "@media (min-width: 993px) {\n",
              "    .console-box {\n",
              "        max-width: 85vw;\n",
              "    }\n",
              "}\n",
              "\n",
              "@media (min-width: 1200px) {\n",
              "    .console-box {\n",
              "        max-width: 70vw;\n",
              "    }\n",
              "}\n",
              "`;\n",
              "document.head.appendChild(console_elems.stl);\n",
              "console_elems.c_box = document.createElement('div');\n",
              "console_elems.c_box.className = 'console-box';\n",
              "console_elems.c_box.id = 'console-box';\n",
              "document.getElementById('output-footer').appendChild(console_elems.c_box);\n",
              "\n",
              "console.log(\"This is a log message\");\n",
              "console.warn(\"This is a warning message\");\n",
              "console.error(\"This is an error message\");\n",
              "\n",
              "console.log(\"This is another log message\");\n",
              "console.error(\"This is another error message\");\n"
            ]
          },
          "metadata": {}
        }
      ]
    },
    {
      "cell_type": "markdown",
      "source": [
        "Here a more involved example:"
      ],
      "metadata": {
        "id": "VRl9RDeNs2mC"
      }
    },
    {
      "cell_type": "code",
      "source": [
        "%%javascript\n",
        "\n",
        "function fetchJSON(url) {\n",
        "  return fetch(url).then(response => {\n",
        "    if(!response.ok) {\n",
        "      throw new Error(`HTTP Error: ${response.status}`);\n",
        "    } else {\n",
        "      return response.json();\n",
        "    }\n",
        "  })\n",
        "  .catch(e => {\n",
        "    console.log(`Error retrieving ${url}: ${e.message}`);\n",
        "  });\n",
        "}\n",
        "\n",
        "// This example used the Nobel Prizes API\n",
        "const categories = [\"che\", \"med\", \"lit\", \"pea\", \"eco\", \"phy\"];\n",
        "const baseUrl = 'https://api.nobelprize.org/2.1/nobelPrizes?nobelPrizeYear=2021&nobelPrizeCategory=';\n",
        "\n",
        "// A list of promises to fetch the prizes for each category\n",
        "const promises = [];\n",
        "categories.forEach(category => {\n",
        "  promises.push(fetchJSON(baseUrl + category));\n",
        "});\n",
        "\n",
        "// Wait until all promises are fulfilled\n",
        "Promise.all(promises).then(values => {\n",
        "  values.forEach(json => {\n",
        "    category = json.nobelPrizes[0].category.en;\n",
        "    firstLaureate = json.nobelPrizes[0].laureates[0].fullName.en;\n",
        "    console.log(`${category}: ${firstLaureate}`);\n",
        "  });\n",
        "});"
      ],
      "metadata": {
        "colab": {
          "base_uri": "https://localhost:8080/",
          "height": 152
        },
        "id": "nGfBcK-eszwt",
        "outputId": "d180c079-d138-4a42-a0a5-ee9cd82bdc52"
      },
      "execution_count": 10,
      "outputs": [
        {
          "output_type": "display_data",
          "data": {
            "text/plain": [
              "<classroom_extensions.node.JavascriptWithConsole object>"
            ],
            "application/javascript": [
              "\n",
              "function c_msg(type, o_func, ...args) {\n",
              "    let p = document.createElement(\"p\");\n",
              "    p.classList.add(`console-${type}`);\n",
              "    p.textContent = args.join(\" \");\n",
              "    document.getElementById('console-box').appendChild(p);\n",
              "    o_func(...args);\n",
              "}\n",
              "\n",
              "const o_log = console.log.bind(console)\n",
              "const o_error = console.error.bind(console);\n",
              "const o_warn = console.warn.bind(console);\n",
              "\n",
              "console.log = c_msg.bind(console, 'log', o_log);\n",
              "console.error = c_msg.bind(console, 'error', o_error);\n",
              "console.warn = c_msg.bind(console, 'warn', o_warn);\n",
              "\n",
              "window.addEventListener(\"error\", (event) => {\n",
              "    console.error(`${event.type}: ${event.message}`);\n",
              "});\n",
              "\n",
              "var console_elems = {}\n",
              "console_elems.stl = document.createElement('style');\n",
              "console_elems.stl.textContent = `\n",
              ":root {\n",
              "    --font-log: Consolas, Monaco, 'Courier New', monospace;\n",
              "}\n",
              "\n",
              ".console-box {\n",
              "    max-width: 70vw;\n",
              "}\n",
              "\n",
              ".console-error, .console-log, .console-warn {\n",
              "    font-family: var(--font-log);\n",
              "    white-space: nowrap;\n",
              "    font-weight: 520;\n",
              "    font-size: 0.9rem;\n",
              "    line-height: 1.1rem;\n",
              "    padding: 2px 10px;\n",
              "    overflow-y: auto;\n",
              "    border-bottom: 1px solid #A9A9A9;\n",
              "    color: black;\n",
              "    margin: 0;\n",
              "}\n",
              "\n",
              ".console-error {\n",
              "    color: #8B0000;\n",
              "    border-bottom-color: #FFC0CB;\n",
              "    background-color: #FFE4E1;\n",
              "}\n",
              "\n",
              ".console-warn {\n",
              "    color: #A0522D;\n",
              "    border-bottom-color: #FFDEAD;\n",
              "    background-color: #FFFACD;\n",
              "}\n",
              "\n",
              "@media (max-width: 600px) {\n",
              "    .console-box {\n",
              "        max-width: 95vw;\n",
              "    }\n",
              "}\n",
              "\n",
              "@media (max-width: 992px) {\n",
              "    .console-box {\n",
              "        max-width: 90vw;\n",
              "    }\n",
              "}\n",
              "\n",
              "@media (min-width: 993px) {\n",
              "    .console-box {\n",
              "        max-width: 85vw;\n",
              "    }\n",
              "}\n",
              "\n",
              "@media (min-width: 1200px) {\n",
              "    .console-box {\n",
              "        max-width: 70vw;\n",
              "    }\n",
              "}\n",
              "`;\n",
              "document.head.appendChild(console_elems.stl);\n",
              "console_elems.c_box = document.createElement('div');\n",
              "console_elems.c_box.className = 'console-box';\n",
              "console_elems.c_box.id = 'console-box';\n",
              "document.getElementById('output-footer').appendChild(console_elems.c_box);\n",
              "\n",
              "function fetchJSON(url) {\n",
              "  return fetch(url).then(response => {\n",
              "    if(!response.ok) {\n",
              "      throw new Error(`HTTP Error: ${response.status}`);\n",
              "    } else {\n",
              "      return response.json();\n",
              "    }\n",
              "  })\n",
              "  .catch(e => {\n",
              "    console.log(`Error retrieving ${url}: ${e.message}`);\n",
              "  });\n",
              "}\n",
              "\n",
              "// This example used the Nobel Prizes API\n",
              "const categories = [\"che\", \"med\", \"lit\", \"pea\", \"eco\", \"phy\"];\n",
              "const baseUrl = 'https://api.nobelprize.org/2.1/nobelPrizes?nobelPrizeYear=2021&nobelPrizeCategory=';\n",
              "\n",
              "// A list of promises to fetch the prizes for each category\n",
              "const promises = [];\n",
              "categories.forEach(category => {\n",
              "  promises.push(fetchJSON(baseUrl + category));\n",
              "});\n",
              "\n",
              "// Wait until all promises are fulfilled\n",
              "Promise.all(promises).then(values => {\n",
              "  values.forEach(json => {\n",
              "    category = json.nobelPrizes[0].category.en;\n",
              "    firstLaureate = json.nobelPrizes[0].laureates[0].fullName.en;\n",
              "    console.log(`${category}: ${firstLaureate}`);\n",
              "  });\n",
              "});\n"
            ]
          },
          "metadata": {}
        }
      ]
    },
    {
      "cell_type": "code",
      "source": [],
      "metadata": {
        "id": "QfAPuBUxtybr"
      },
      "execution_count": null,
      "outputs": []
    }
  ]
}