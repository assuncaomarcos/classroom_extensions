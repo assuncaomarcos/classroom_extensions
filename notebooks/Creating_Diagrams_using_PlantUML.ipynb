{
  "nbformat": 4,
  "nbformat_minor": 0,
  "metadata": {
    "colab": {
      "provenance": [],
      "toc_visible": true,
      "authorship_tag": "ABX9TyP7IllXnQ1g/UYMa8/gjdba",
      "include_colab_link": true
    },
    "kernelspec": {
      "name": "python3",
      "display_name": "Python 3"
    },
    "language_info": {
      "name": "python"
    }
  },
  "cells": [
    {
      "cell_type": "markdown",
      "metadata": {
        "id": "view-in-github",
        "colab_type": "text"
      },
      "source": [
        "<a href=\"https://colab.research.google.com/github/assuncaomarcos/classroom_extensions/blob/main/notebooks/Creating_Diagrams_using_PlantUML.ipynb\" target=\"_parent\"><img src=\"https://colab.research.google.com/assets/colab-badge.svg\" alt=\"Open In Colab\"/></a>"
      ]
    },
    {
      "cell_type": "markdown",
      "source": [
        "# PlantUML\n",
        "-------------\n",
        "\n",
        "PlantUML is a textual domain-specific language (DSL) used for creating diagrams,\n",
        "primarily focused on software engineering and system design. It allows you to\n",
        "express diagrams using a simple and intuitive syntax, which PlantUML transforms into various types of visual diagrams, such as UML (Unified Modeling Language), sequence, class, activity, and more."
      ],
      "metadata": {
        "id": "fPHZa2I2ym12"
      }
    },
    {
      "cell_type": "markdown",
      "source": [
        "## Installing the Classroom Extensions\n",
        "------------------\n",
        "\n",
        "We will install the extensions via pip+github:"
      ],
      "metadata": {
        "id": "etnj51vXy156"
      }
    },
    {
      "cell_type": "code",
      "source": [
        "!pip3 install classroom-extensions"
      ],
      "metadata": {
        "id": "7dEy9qYmy87O"
      },
      "execution_count": null,
      "outputs": []
    },
    {
      "cell_type": "markdown",
      "source": [
        "Once the extensions are installed, you can load the `plantuml` extension to create the `%%plantuml` cell magic:"
      ],
      "metadata": {
        "id": "OwbynUuHy_LP"
      }
    },
    {
      "cell_type": "code",
      "source": [
        "%load_ext classroom_extensions.plantuml"
      ],
      "metadata": {
        "id": "sWv_vSCIzLpy"
      },
      "execution_count": 2,
      "outputs": []
    },
    {
      "cell_type": "markdown",
      "source": [
        "## Creating UML Diagrams\n",
        "------------\n",
        "\n",
        "Once the extension is installed, you can use the cell magic `%%plantuml` to create UML diagrams:"
      ],
      "metadata": {
        "id": "hvKBzCGEzPaJ"
      }
    },
    {
      "cell_type": "code",
      "source": [
        "%%plantuml\n",
        "\n",
        "@startuml\n",
        "\n",
        "class Person {\n",
        "  -name: String\n",
        "  -age: int\n",
        "  +getName(): String\n",
        "  +getAge(): int\n",
        "  +setName(name: String): void\n",
        "  +setAge(age: int): void\n",
        "}\n",
        "\n",
        "class Student {\n",
        "  -studentId: String\n",
        "  +getStudentId(): String\n",
        "  +setStudentId(studentId: String): void\n",
        "}\n",
        "\n",
        "Person --|> Student\n",
        "\n",
        "@enduml"
      ],
      "metadata": {
        "colab": {
          "base_uri": "https://localhost:8080/",
          "height": 337
        },
        "id": "aAwjo4vH0ayx",
        "outputId": "df5f8997-674f-4053-c315-e969dc81fea7"
      },
      "execution_count": 3,
      "outputs": [
        {
          "output_type": "display_data",
          "data": {
            "text/plain": [
              "<IPython.core.display.SVG object>"
            ],
            "image/svg+xml": "<svg xmlns=\"http://www.w3.org/2000/svg\" xmlns:xlink=\"http://www.w3.org/1999/xlink\" contentStyleType=\"text/css\" height=\"316px\" preserveAspectRatio=\"none\" style=\"width:305px;height:316px;background:#FFFFFF;\" version=\"1.1\" viewBox=\"0 0 305 316\" width=\"305px\" zoomAndPan=\"magnify\"><defs/><g><!--class Person--><g id=\"elem_Person\"><rect codeLine=\"1\" fill=\"#F1F1F1\" height=\"145.7813\" id=\"Person\" rx=\"2.5\" ry=\"2.5\" style=\"stroke:#181818;stroke-width:0.5;\" width=\"232\" x=\"36.5\" y=\"7\"/><ellipse cx=\"123.75\" cy=\"23\" fill=\"#ADD1B2\" rx=\"11\" ry=\"11\" style=\"stroke:#181818;stroke-width:1.0;\"/><path d=\"M126.0938,18.6719 C125.1563,18.2344 124.5625,18.0938 123.6875,18.0938 C121.0625,18.0938 119.0625,20.1719 119.0625,22.8906 L119.0625,24.0156 C119.0625,26.5938 121.1719,28.4844 124.0625,28.4844 C125.2813,28.4844 126.4375,28.1875 127.1875,27.6406 C127.7656,27.2344 128.0938,26.7813 128.0938,26.3906 C128.0938,25.9375 127.7031,25.5469 127.2344,25.5469 C127.0156,25.5469 126.8125,25.625 126.625,25.8125 C126.1719,26.2969 126.1719,26.2969 125.9844,26.3906 C125.5625,26.6563 124.875,26.7813 124.1094,26.7813 C122.0625,26.7813 120.7656,25.6875 120.7656,23.9844 L120.7656,22.8906 C120.7656,21.1094 122.0156,19.7969 123.75,19.7969 C124.3281,19.7969 124.9375,19.9531 125.4063,20.2031 C125.8906,20.4844 126.0625,20.7031 126.1563,21.1094 C126.2188,21.5156 126.25,21.6406 126.3906,21.7656 C126.5313,21.9063 126.7656,22.0156 126.9844,22.0156 C127.25,22.0156 127.5156,21.875 127.6875,21.6563 C127.7969,21.5 127.8281,21.3125 127.8281,20.8906 L127.8281,19.4688 C127.8281,19.0313 127.8125,18.9063 127.7188,18.75 C127.5625,18.4844 127.2813,18.3438 126.9844,18.3438 C126.6875,18.3438 126.4844,18.4375 126.2656,18.75 L126.0938,18.6719 Z \" fill=\"#000000\"/><text fill=\"#000000\" font-family=\"sans-serif\" font-size=\"14\" lengthAdjust=\"spacing\" textLength=\"49\" x=\"144.25\" y=\"27.8467\">Person</text><line style=\"stroke:#181818;stroke-width:0.5;\" x1=\"37.5\" x2=\"267.5\" y1=\"39\" y2=\"39\"/><rect fill=\"none\" height=\"6\" style=\"stroke:#C82930;stroke-width:1.0;\" width=\"6\" x=\"44.5\" y=\"49.6484\"/><text fill=\"#000000\" font-family=\"sans-serif\" font-size=\"14\" lengthAdjust=\"spacing\" textLength=\"93\" x=\"56.5\" y=\"55.9951\">name: String</text><rect fill=\"none\" height=\"6\" style=\"stroke:#C82930;stroke-width:1.0;\" width=\"6\" x=\"44.5\" y=\"65.9453\"/><text fill=\"#000000\" font-family=\"sans-serif\" font-size=\"14\" lengthAdjust=\"spacing\" textLength=\"55\" x=\"56.5\" y=\"72.292\">age: int</text><line style=\"stroke:#181818;stroke-width:0.5;\" x1=\"37.5\" x2=\"267.5\" y1=\"79.5938\" y2=\"79.5938\"/><ellipse cx=\"47.5\" cy=\"93.2422\" fill=\"#84BE84\" rx=\"3\" ry=\"3\" style=\"stroke:#038048;stroke-width:1.0;\"/><text fill=\"#000000\" font-family=\"sans-serif\" font-size=\"14\" lengthAdjust=\"spacing\" textLength=\"129\" x=\"56.5\" y=\"96.5889\">getName(): String</text><ellipse cx=\"47.5\" cy=\"109.5391\" fill=\"#84BE84\" rx=\"3\" ry=\"3\" style=\"stroke:#038048;stroke-width:1.0;\"/><text fill=\"#000000\" font-family=\"sans-serif\" font-size=\"14\" lengthAdjust=\"spacing\" textLength=\"92\" x=\"56.5\" y=\"112.8857\">getAge(): int</text><ellipse cx=\"47.5\" cy=\"125.8359\" fill=\"#84BE84\" rx=\"3\" ry=\"3\" style=\"stroke:#038048;stroke-width:1.0;\"/><text fill=\"#000000\" font-family=\"sans-serif\" font-size=\"14\" lengthAdjust=\"spacing\" textLength=\"206\" x=\"56.5\" y=\"129.1826\">setName(name: String): void</text><ellipse cx=\"47.5\" cy=\"142.1328\" fill=\"#84BE84\" rx=\"3\" ry=\"3\" style=\"stroke:#038048;stroke-width:1.0;\"/><text fill=\"#000000\" font-family=\"sans-serif\" font-size=\"14\" lengthAdjust=\"spacing\" textLength=\"155\" x=\"56.5\" y=\"145.4795\">setAge(age: int): void</text></g><!--class Student--><g id=\"elem_Student\"><rect codeLine=\"10\" fill=\"#F1F1F1\" height=\"96.8906\" id=\"Student\" rx=\"2.5\" ry=\"2.5\" style=\"stroke:#181818;stroke-width:0.5;\" width=\"291\" x=\"7\" y=\"213\"/><ellipse cx=\"119.25\" cy=\"229\" fill=\"#ADD1B2\" rx=\"11\" ry=\"11\" style=\"stroke:#181818;stroke-width:1.0;\"/><path d=\"M121.5938,224.6719 C120.6563,224.2344 120.0625,224.0938 119.1875,224.0938 C116.5625,224.0938 114.5625,226.1719 114.5625,228.8906 L114.5625,230.0156 C114.5625,232.5938 116.6719,234.4844 119.5625,234.4844 C120.7813,234.4844 121.9375,234.1875 122.6875,233.6406 C123.2656,233.2344 123.5938,232.7813 123.5938,232.3906 C123.5938,231.9375 123.2031,231.5469 122.7344,231.5469 C122.5156,231.5469 122.3125,231.625 122.125,231.8125 C121.6719,232.2969 121.6719,232.2969 121.4844,232.3906 C121.0625,232.6563 120.375,232.7813 119.6094,232.7813 C117.5625,232.7813 116.2656,231.6875 116.2656,229.9844 L116.2656,228.8906 C116.2656,227.1094 117.5156,225.7969 119.25,225.7969 C119.8281,225.7969 120.4375,225.9531 120.9063,226.2031 C121.3906,226.4844 121.5625,226.7031 121.6563,227.1094 C121.7188,227.5156 121.75,227.6406 121.8906,227.7656 C122.0313,227.9063 122.2656,228.0156 122.4844,228.0156 C122.75,228.0156 123.0156,227.875 123.1875,227.6563 C123.2969,227.5 123.3281,227.3125 123.3281,226.8906 L123.3281,225.4688 C123.3281,225.0313 123.3125,224.9063 123.2188,224.75 C123.0625,224.4844 122.7813,224.3438 122.4844,224.3438 C122.1875,224.3438 121.9844,224.4375 121.7656,224.75 L121.5938,224.6719 Z \" fill=\"#000000\"/><text fill=\"#000000\" font-family=\"sans-serif\" font-size=\"14\" lengthAdjust=\"spacing\" textLength=\"58\" x=\"139.75\" y=\"233.8467\">Student</text><line style=\"stroke:#181818;stroke-width:0.5;\" x1=\"8\" x2=\"297\" y1=\"245\" y2=\"245\"/><rect fill=\"none\" height=\"6\" style=\"stroke:#C82930;stroke-width:1.0;\" width=\"6\" x=\"15\" y=\"255.6484\"/><text fill=\"#000000\" font-family=\"sans-serif\" font-size=\"14\" lengthAdjust=\"spacing\" textLength=\"122\" x=\"27\" y=\"261.9951\">studentId: String</text><line style=\"stroke:#181818;stroke-width:0.5;\" x1=\"8\" x2=\"297\" y1=\"269.2969\" y2=\"269.2969\"/><ellipse cx=\"18\" cy=\"282.9453\" fill=\"#84BE84\" rx=\"3\" ry=\"3\" style=\"stroke:#038048;stroke-width:1.0;\"/><text fill=\"#000000\" font-family=\"sans-serif\" font-size=\"14\" lengthAdjust=\"spacing\" textLength=\"159\" x=\"27\" y=\"286.292\">getStudentId(): String</text><ellipse cx=\"18\" cy=\"299.2422\" fill=\"#84BE84\" rx=\"3\" ry=\"3\" style=\"stroke:#038048;stroke-width:1.0;\"/><text fill=\"#000000\" font-family=\"sans-serif\" font-size=\"14\" lengthAdjust=\"spacing\" textLength=\"265\" x=\"27\" y=\"302.5889\">setStudentId(studentId: String): void</text></g><!--link Person to Student--><g id=\"link_Person_Student\"><path codeLine=\"16\" d=\"M152.5,153.234 C152.5,166.247 152.5,179.771 152.5,192.654 \" fill=\"none\" id=\"Person-to-Student\" style=\"stroke:#181818;stroke-width:1.0;\"/><polygon fill=\"none\" points=\"159.5,192.858,152.5,212.8584,145.5,192.858,159.5,192.858\" style=\"stroke:#181818;stroke-width:1.0;\"/></g><!--SRC=[Iyv9B2vM24WjAixFKwZcKb3GpKlCJRLI22ufoinB1_4Jqu7SpBmI85ixFRN43oYjeOca02Jec0uMWwegXgf2DWaeMvQVcGAL1gc7cGkJgUNYIWOx9hYaD2KrhmJYcc88npC5pSPWc3YgMugHPJ3q8ba5zR6kReqTp480]--></g></svg>"
          },
          "metadata": {}
        }
      ]
    },
    {
      "cell_type": "code",
      "source": [
        "%%plantuml\n",
        "\n",
        "@startuml\n",
        "\n",
        "actor User\n",
        "\n",
        "participant \"Controller\" as Controller\n",
        "participant \"Service\" as Service\n",
        "participant \"Database\" as Database\n",
        "\n",
        "User -> Controller: Request Data\n",
        "activate Controller\n",
        "\n",
        "Controller -> Service: Process Data\n",
        "activate Service\n",
        "\n",
        "Service -> Database: Fetch Data\n",
        "activate Database\n",
        "Database --> Service: Return Data\n",
        "deactivate Database\n",
        "\n",
        "Service --> Controller: Processed Data\n",
        "deactivate Service\n",
        "\n",
        "Controller --> User: Response Data\n",
        "deactivate Controller\n",
        "\n",
        "@enduml"
      ],
      "metadata": {
        "colab": {
          "base_uri": "https://localhost:8080/",
          "height": 377
        },
        "id": "sOm0zZD20dXx",
        "outputId": "98b25819-6af2-483b-a11d-d18c8e2d1012"
      },
      "execution_count": 4,
      "outputs": [
        {
          "output_type": "display_data",
          "data": {
            "text/plain": [
              "<IPython.core.display.SVG object>"
            ],
            "image/svg+xml": "<svg xmlns=\"http://www.w3.org/2000/svg\" xmlns:xlink=\"http://www.w3.org/1999/xlink\" contentStyleType=\"text/css\" height=\"356px\" preserveAspectRatio=\"none\" style=\"width:444px;height:356px;background:#FFFFFF;\" version=\"1.1\" viewBox=\"0 0 444 356\" width=\"444px\" zoomAndPan=\"magnify\"><defs/><g><rect fill=\"#FFFFFF\" height=\"145.6641\" style=\"stroke:#181818;stroke-width:1.0;\" width=\"10\" x=\"145.5\" y=\"112.4297\"/><rect fill=\"#FFFFFF\" height=\"87.3984\" style=\"stroke:#181818;stroke-width:1.0;\" width=\"10\" x=\"280.5\" y=\"141.5625\"/><rect fill=\"#FFFFFF\" height=\"29.1328\" style=\"stroke:#181818;stroke-width:1.0;\" width=\"10\" x=\"392.5\" y=\"170.6953\"/><line style=\"stroke:#181818;stroke-width:0.5;stroke-dasharray:5.0,5.0;\" x1=\"23\" x2=\"23\" y1=\"81.2969\" y2=\"276.0938\"/><line style=\"stroke:#181818;stroke-width:0.5;stroke-dasharray:5.0,5.0;\" x1=\"150\" x2=\"150\" y1=\"81.2969\" y2=\"276.0938\"/><line style=\"stroke:#181818;stroke-width:0.5;stroke-dasharray:5.0,5.0;\" x1=\"285\" x2=\"285\" y1=\"81.2969\" y2=\"276.0938\"/><line style=\"stroke:#181818;stroke-width:0.5;stroke-dasharray:5.0,5.0;\" x1=\"397.5\" x2=\"397.5\" y1=\"81.2969\" y2=\"276.0938\"/><text fill=\"#000000\" font-family=\"sans-serif\" font-size=\"14\" lengthAdjust=\"spacing\" textLength=\"31\" x=\"5\" y=\"77.9951\">User</text><ellipse cx=\"23.5\" cy=\"13.5\" fill=\"#E2E2F0\" rx=\"8\" ry=\"8\" style=\"stroke:#181818;stroke-width:0.5;\"/><path d=\"M23.5,21.5 L23.5,48.5 M10.5,29.5 L36.5,29.5 M23.5,48.5 L10.5,63.5 M23.5,48.5 L36.5,63.5 \" fill=\"none\" style=\"stroke:#181818;stroke-width:0.5;\"/><text fill=\"#000000\" font-family=\"sans-serif\" font-size=\"14\" lengthAdjust=\"spacing\" textLength=\"31\" x=\"5\" y=\"288.0889\">User</text><ellipse cx=\"23.5\" cy=\"299.8906\" fill=\"#E2E2F0\" rx=\"8\" ry=\"8\" style=\"stroke:#181818;stroke-width:0.5;\"/><path d=\"M23.5,307.8906 L23.5,334.8906 M10.5,315.8906 L36.5,315.8906 M23.5,334.8906 L10.5,349.8906 M23.5,334.8906 L36.5,349.8906 \" fill=\"none\" style=\"stroke:#181818;stroke-width:0.5;\"/><rect fill=\"#E2E2F0\" height=\"30.2969\" rx=\"2.5\" ry=\"2.5\" style=\"stroke:#181818;stroke-width:0.5;\" width=\"87\" x=\"107\" y=\"50\"/><text fill=\"#000000\" font-family=\"sans-serif\" font-size=\"14\" lengthAdjust=\"spacing\" textLength=\"73\" x=\"114\" y=\"69.9951\">Controller</text><rect fill=\"#E2E2F0\" height=\"30.2969\" rx=\"2.5\" ry=\"2.5\" style=\"stroke:#181818;stroke-width:0.5;\" width=\"87\" x=\"107\" y=\"275.0938\"/><text fill=\"#000000\" font-family=\"sans-serif\" font-size=\"14\" lengthAdjust=\"spacing\" textLength=\"73\" x=\"114\" y=\"295.0889\">Controller</text><rect fill=\"#E2E2F0\" height=\"30.2969\" rx=\"2.5\" ry=\"2.5\" style=\"stroke:#181818;stroke-width:0.5;\" width=\"67\" x=\"252\" y=\"50\"/><text fill=\"#000000\" font-family=\"sans-serif\" font-size=\"14\" lengthAdjust=\"spacing\" textLength=\"53\" x=\"259\" y=\"69.9951\">Service</text><rect fill=\"#E2E2F0\" height=\"30.2969\" rx=\"2.5\" ry=\"2.5\" style=\"stroke:#181818;stroke-width:0.5;\" width=\"67\" x=\"252\" y=\"275.0938\"/><text fill=\"#000000\" font-family=\"sans-serif\" font-size=\"14\" lengthAdjust=\"spacing\" textLength=\"53\" x=\"259\" y=\"295.0889\">Service</text><rect fill=\"#E2E2F0\" height=\"30.2969\" rx=\"2.5\" ry=\"2.5\" style=\"stroke:#181818;stroke-width:0.5;\" width=\"82\" x=\"356.5\" y=\"50\"/><text fill=\"#000000\" font-family=\"sans-serif\" font-size=\"14\" lengthAdjust=\"spacing\" textLength=\"68\" x=\"363.5\" y=\"69.9951\">Database</text><rect fill=\"#E2E2F0\" height=\"30.2969\" rx=\"2.5\" ry=\"2.5\" style=\"stroke:#181818;stroke-width:0.5;\" width=\"82\" x=\"356.5\" y=\"275.0938\"/><text fill=\"#000000\" font-family=\"sans-serif\" font-size=\"14\" lengthAdjust=\"spacing\" textLength=\"68\" x=\"363.5\" y=\"295.0889\">Database</text><rect fill=\"#FFFFFF\" height=\"145.6641\" style=\"stroke:#181818;stroke-width:1.0;\" width=\"10\" x=\"145.5\" y=\"112.4297\"/><rect fill=\"#FFFFFF\" height=\"87.3984\" style=\"stroke:#181818;stroke-width:1.0;\" width=\"10\" x=\"280.5\" y=\"141.5625\"/><rect fill=\"#FFFFFF\" height=\"29.1328\" style=\"stroke:#181818;stroke-width:1.0;\" width=\"10\" x=\"392.5\" y=\"170.6953\"/><polygon fill=\"#181818\" points=\"133.5,108.4297,143.5,112.4297,133.5,116.4297,137.5,112.4297\" style=\"stroke:#181818;stroke-width:1.0;\"/><line style=\"stroke:#181818;stroke-width:1.0;\" x1=\"23.5\" x2=\"139.5\" y1=\"112.4297\" y2=\"112.4297\"/><text fill=\"#000000\" font-family=\"sans-serif\" font-size=\"13\" lengthAdjust=\"spacing\" textLength=\"88\" x=\"30.5\" y=\"107.3638\">Request Data</text><polygon fill=\"#181818\" points=\"268.5,137.5625,278.5,141.5625,268.5,145.5625,272.5,141.5625\" style=\"stroke:#181818;stroke-width:1.0;\"/><line style=\"stroke:#181818;stroke-width:1.0;\" x1=\"155.5\" x2=\"274.5\" y1=\"141.5625\" y2=\"141.5625\"/><text fill=\"#000000\" font-family=\"sans-serif\" font-size=\"13\" lengthAdjust=\"spacing\" textLength=\"85\" x=\"162.5\" y=\"136.4966\">Process Data</text><polygon fill=\"#181818\" points=\"380.5,166.6953,390.5,170.6953,380.5,174.6953,384.5,170.6953\" style=\"stroke:#181818;stroke-width:1.0;\"/><line style=\"stroke:#181818;stroke-width:1.0;\" x1=\"290.5\" x2=\"386.5\" y1=\"170.6953\" y2=\"170.6953\"/><text fill=\"#000000\" font-family=\"sans-serif\" font-size=\"13\" lengthAdjust=\"spacing\" textLength=\"70\" x=\"297.5\" y=\"165.6294\">Fetch Data</text><polygon fill=\"#181818\" points=\"301.5,195.8281,291.5,199.8281,301.5,203.8281,297.5,199.8281\" style=\"stroke:#181818;stroke-width:1.0;\"/><line style=\"stroke:#181818;stroke-width:1.0;stroke-dasharray:2.0,2.0;\" x1=\"295.5\" x2=\"396.5\" y1=\"199.8281\" y2=\"199.8281\"/><text fill=\"#000000\" font-family=\"sans-serif\" font-size=\"13\" lengthAdjust=\"spacing\" textLength=\"78\" x=\"307.5\" y=\"194.7622\">Return Data</text><polygon fill=\"#181818\" points=\"166.5,224.9609,156.5,228.9609,166.5,232.9609,162.5,228.9609\" style=\"stroke:#181818;stroke-width:1.0;\"/><line style=\"stroke:#181818;stroke-width:1.0;stroke-dasharray:2.0,2.0;\" x1=\"160.5\" x2=\"284.5\" y1=\"228.9609\" y2=\"228.9609\"/><text fill=\"#000000\" font-family=\"sans-serif\" font-size=\"13\" lengthAdjust=\"spacing\" textLength=\"101\" x=\"172.5\" y=\"223.895\">Processed Data</text><polygon fill=\"#181818\" points=\"34.5,254.0938,24.5,258.0938,34.5,262.0938,30.5,258.0938\" style=\"stroke:#181818;stroke-width:1.0;\"/><line style=\"stroke:#181818;stroke-width:1.0;stroke-dasharray:2.0,2.0;\" x1=\"28.5\" x2=\"149.5\" y1=\"258.0938\" y2=\"258.0938\"/><text fill=\"#000000\" font-family=\"sans-serif\" font-size=\"13\" lengthAdjust=\"spacing\" textLength=\"98\" x=\"40.5\" y=\"253.0278\">Response Data</text><!--SRC=[PP0n3eCm34NtdC9Yvm8CNLfrhgXw03TOAX9Ag6quVnj8I83jM_hF_zjerJEyXDYO4Lbxsu_e5AghTyf-68WhG84yxcrFuhctj7YYtXjkgFX6MHrfC2OaGdqfzZRGqdSYqSLbq6e_erAPRB8ERCnhuC7UaiW1J7LC50591HguazhFWTZg9G5r6TEIJknMfgCpbOCEXyL-r9tOhMDvsPyExmc1CdedTCAo-mS0]--></g></svg>"
          },
          "metadata": {}
        }
      ]
    },
    {
      "cell_type": "markdown",
      "source": [
        "## Other Types of Diagrams\n",
        "----------------\n",
        "\n",
        "You can also create several other types of diagrams. Please refer to the [PlantUML's website](https://plantuml.com/) for information about its domain-specific language."
      ],
      "metadata": {
        "id": "BI0h2c3I0gO3"
      }
    },
    {
      "cell_type": "code",
      "source": [
        "%%plantuml\n",
        "\n",
        "@startuml\n",
        "\n",
        "start\n",
        ":Initialize variables;\n",
        "if (Condition A) then (yes)\n",
        "  :Process A;\n",
        "  if (Condition B) then (yes)\n",
        "    :Process B;\n",
        "    if (Condition C) then (yes)\n",
        "      :Process C;\n",
        "    else (no)\n",
        "      :Process D;\n",
        "    endif\n",
        "  else (no)\n",
        "    :Process E;\n",
        "  endif\n",
        "else (no)\n",
        "  :Process F;\n",
        "endif\n",
        "stop\n",
        "\n",
        "@enduml"
      ],
      "metadata": {
        "colab": {
          "base_uri": "https://localhost:8080/",
          "height": 511
        },
        "id": "Y_LyyPt40_zd",
        "outputId": "7d6389b1-1d6f-40a2-956d-8eb20d1c0cf1"
      },
      "execution_count": 5,
      "outputs": [
        {
          "output_type": "display_data",
          "data": {
            "text/plain": [
              "<IPython.core.display.SVG object>"
            ],
            "image/svg+xml": "<svg xmlns=\"http://www.w3.org/2000/svg\" xmlns:xlink=\"http://www.w3.org/1999/xlink\" contentStyleType=\"text/css\" height=\"490px\" preserveAspectRatio=\"none\" style=\"width:429px;height:490px;background:#FFFFFF;\" version=\"1.1\" viewBox=\"0 0 429 490\" width=\"429px\" zoomAndPan=\"magnify\"><defs/><g><ellipse cx=\"283.375\" cy=\"20\" fill=\"#222222\" rx=\"10\" ry=\"10\" style=\"stroke:#222222;stroke-width:1.0;\"/><rect fill=\"#F1F1F1\" height=\"33.9688\" rx=\"12.5\" ry=\"12.5\" style=\"stroke:#181818;stroke-width:0.5;\" width=\"127\" x=\"219.875\" y=\"50\"/><text fill=\"#000000\" font-family=\"sans-serif\" font-size=\"12\" lengthAdjust=\"spacing\" textLength=\"107\" x=\"229.875\" y=\"71.1387\">Initialize variables</text><polygon fill=\"#F1F1F1\" points=\"250.875,103.9688,315.875,103.9688,327.875,115.9688,315.875,127.9688,250.875,127.9688,238.875,115.9688,250.875,103.9688\" style=\"stroke:#181818;stroke-width:0.5;\"/><text fill=\"#000000\" font-family=\"sans-serif\" font-size=\"11\" lengthAdjust=\"spacing\" textLength=\"65\" x=\"250.875\" y=\"119.7769\">Condition A</text><text fill=\"#000000\" font-family=\"sans-serif\" font-size=\"11\" lengthAdjust=\"spacing\" textLength=\"21\" x=\"217.875\" y=\"113.3745\">yes</text><text fill=\"#000000\" font-family=\"sans-serif\" font-size=\"11\" lengthAdjust=\"spacing\" textLength=\"14\" x=\"327.875\" y=\"113.3745\">no</text><rect fill=\"#F1F1F1\" height=\"33.9688\" rx=\"12.5\" ry=\"12.5\" style=\"stroke:#181818;stroke-width:0.5;\" width=\"80\" x=\"147.75\" y=\"137.9688\"/><text fill=\"#000000\" font-family=\"sans-serif\" font-size=\"12\" lengthAdjust=\"spacing\" textLength=\"60\" x=\"157.75\" y=\"159.1074\">Process A</text><polygon fill=\"#F1F1F1\" points=\"155.25,191.9375,220.25,191.9375,232.25,203.9375,220.25,215.9375,155.25,215.9375,143.25,203.9375,155.25,191.9375\" style=\"stroke:#181818;stroke-width:0.5;\"/><text fill=\"#000000\" font-family=\"sans-serif\" font-size=\"11\" lengthAdjust=\"spacing\" textLength=\"65\" x=\"155.25\" y=\"207.7456\">Condition B</text><text fill=\"#000000\" font-family=\"sans-serif\" font-size=\"11\" lengthAdjust=\"spacing\" textLength=\"21\" x=\"122.25\" y=\"201.3433\">yes</text><text fill=\"#000000\" font-family=\"sans-serif\" font-size=\"11\" lengthAdjust=\"spacing\" textLength=\"14\" x=\"232.25\" y=\"201.3433\">no</text><rect fill=\"#F1F1F1\" height=\"33.9688\" rx=\"12.5\" ry=\"12.5\" style=\"stroke:#181818;stroke-width:0.5;\" width=\"80\" x=\"65.5\" y=\"225.9375\"/><text fill=\"#000000\" font-family=\"sans-serif\" font-size=\"12\" lengthAdjust=\"spacing\" textLength=\"60\" x=\"75.5\" y=\"247.0762\">Process B</text><polygon fill=\"#F1F1F1\" points=\"73,279.9063,138,279.9063,150,291.9063,138,303.9063,73,303.9063,61,291.9063,73,279.9063\" style=\"stroke:#181818;stroke-width:0.5;\"/><text fill=\"#000000\" font-family=\"sans-serif\" font-size=\"11\" lengthAdjust=\"spacing\" textLength=\"65\" x=\"73\" y=\"295.7144\">Condition C</text><text fill=\"#000000\" font-family=\"sans-serif\" font-size=\"11\" lengthAdjust=\"spacing\" textLength=\"21\" x=\"40\" y=\"289.312\">yes</text><text fill=\"#000000\" font-family=\"sans-serif\" font-size=\"11\" lengthAdjust=\"spacing\" textLength=\"14\" x=\"150\" y=\"289.312\">no</text><rect fill=\"#F1F1F1\" height=\"33.9688\" rx=\"12.5\" ry=\"12.5\" style=\"stroke:#181818;stroke-width:0.5;\" width=\"80\" x=\"11\" y=\"313.9063\"/><text fill=\"#000000\" font-family=\"sans-serif\" font-size=\"12\" lengthAdjust=\"spacing\" textLength=\"60\" x=\"21\" y=\"335.0449\">Process C</text><rect fill=\"#F1F1F1\" height=\"33.9688\" rx=\"12.5\" ry=\"12.5\" style=\"stroke:#181818;stroke-width:0.5;\" width=\"81\" x=\"119.5\" y=\"313.9063\"/><text fill=\"#000000\" font-family=\"sans-serif\" font-size=\"12\" lengthAdjust=\"spacing\" textLength=\"61\" x=\"129.5\" y=\"335.0449\">Process D</text><polygon fill=\"#F1F1F1\" points=\"105.5,353.875,117.5,365.875,105.5,377.875,93.5,365.875,105.5,353.875\" style=\"stroke:#181818;stroke-width:0.5;\"/><rect fill=\"#F1F1F1\" height=\"33.9688\" rx=\"12.5\" ry=\"12.5\" style=\"stroke:#181818;stroke-width:0.5;\" width=\"79\" x=\"230.5\" y=\"225.9375\"/><text fill=\"#000000\" font-family=\"sans-serif\" font-size=\"12\" lengthAdjust=\"spacing\" textLength=\"59\" x=\"240.5\" y=\"247.0762\">Process E</text><polygon fill=\"#F1F1F1\" points=\"187.75,383.875,199.75,395.875,187.75,407.875,175.75,395.875,187.75,383.875\" style=\"stroke:#181818;stroke-width:0.5;\"/><rect fill=\"#F1F1F1\" height=\"33.9688\" rx=\"12.5\" ry=\"12.5\" style=\"stroke:#181818;stroke-width:0.5;\" width=\"79\" x=\"339.5\" y=\"137.9688\"/><text fill=\"#000000\" font-family=\"sans-serif\" font-size=\"12\" lengthAdjust=\"spacing\" textLength=\"59\" x=\"349.5\" y=\"159.1074\">Process F</text><polygon fill=\"#F1F1F1\" points=\"283.375,413.875,295.375,425.875,283.375,437.875,271.375,425.875,283.375,413.875\" style=\"stroke:#181818;stroke-width:0.5;\"/><ellipse cx=\"283.375\" cy=\"468.875\" fill=\"none\" rx=\"11\" ry=\"11\" style=\"stroke:#222222;stroke-width:1.0;\"/><ellipse cx=\"283.375\" cy=\"468.875\" fill=\"#222222\" rx=\"6\" ry=\"6\" style=\"stroke:#111111;stroke-width:1.0;\"/><line style=\"stroke:#181818;stroke-width:1.0;\" x1=\"283.375\" x2=\"283.375\" y1=\"30\" y2=\"50\"/><polygon fill=\"#181818\" points=\"279.375,40,283.375,50,287.375,40,283.375,44\" style=\"stroke:#181818;stroke-width:1.0;\"/><line style=\"stroke:#181818;stroke-width:1.0;\" x1=\"61\" x2=\"51\" y1=\"291.9063\" y2=\"291.9063\"/><line style=\"stroke:#181818;stroke-width:1.0;\" x1=\"51\" x2=\"51\" y1=\"291.9063\" y2=\"313.9063\"/><polygon fill=\"#181818\" points=\"47,303.9063,51,313.9063,55,303.9063,51,307.9063\" style=\"stroke:#181818;stroke-width:1.0;\"/><line style=\"stroke:#181818;stroke-width:1.0;\" x1=\"150\" x2=\"160\" y1=\"291.9063\" y2=\"291.9063\"/><line style=\"stroke:#181818;stroke-width:1.0;\" x1=\"160\" x2=\"160\" y1=\"291.9063\" y2=\"313.9063\"/><polygon fill=\"#181818\" points=\"156,303.9063,160,313.9063,164,303.9063,160,307.9063\" style=\"stroke:#181818;stroke-width:1.0;\"/><line style=\"stroke:#181818;stroke-width:1.0;\" x1=\"51\" x2=\"51\" y1=\"347.875\" y2=\"365.875\"/><line style=\"stroke:#181818;stroke-width:1.0;\" x1=\"51\" x2=\"93.5\" y1=\"365.875\" y2=\"365.875\"/><polygon fill=\"#181818\" points=\"83.5,361.875,93.5,365.875,83.5,369.875,87.5,365.875\" style=\"stroke:#181818;stroke-width:1.0;\"/><line style=\"stroke:#181818;stroke-width:1.0;\" x1=\"160\" x2=\"160\" y1=\"347.875\" y2=\"365.875\"/><line style=\"stroke:#181818;stroke-width:1.0;\" x1=\"160\" x2=\"117.5\" y1=\"365.875\" y2=\"365.875\"/><polygon fill=\"#181818\" points=\"127.5,361.875,117.5,365.875,127.5,369.875,123.5,365.875\" style=\"stroke:#181818;stroke-width:1.0;\"/><line style=\"stroke:#181818;stroke-width:1.0;\" x1=\"105.5\" x2=\"105.5\" y1=\"259.9063\" y2=\"279.9063\"/><polygon fill=\"#181818\" points=\"101.5,269.9063,105.5,279.9063,109.5,269.9063,105.5,273.9063\" style=\"stroke:#181818;stroke-width:1.0;\"/><line style=\"stroke:#181818;stroke-width:1.0;\" x1=\"143.25\" x2=\"105.5\" y1=\"203.9375\" y2=\"203.9375\"/><line style=\"stroke:#181818;stroke-width:1.0;\" x1=\"105.5\" x2=\"105.5\" y1=\"203.9375\" y2=\"225.9375\"/><polygon fill=\"#181818\" points=\"101.5,215.9375,105.5,225.9375,109.5,215.9375,105.5,219.9375\" style=\"stroke:#181818;stroke-width:1.0;\"/><line style=\"stroke:#181818;stroke-width:1.0;\" x1=\"232.25\" x2=\"270\" y1=\"203.9375\" y2=\"203.9375\"/><line style=\"stroke:#181818;stroke-width:1.0;\" x1=\"270\" x2=\"270\" y1=\"203.9375\" y2=\"225.9375\"/><polygon fill=\"#181818\" points=\"266,215.9375,270,225.9375,274,215.9375,270,219.9375\" style=\"stroke:#181818;stroke-width:1.0;\"/><line style=\"stroke:#181818;stroke-width:1.0;\" x1=\"105.5\" x2=\"105.5\" y1=\"377.875\" y2=\"395.875\"/><line style=\"stroke:#181818;stroke-width:1.0;\" x1=\"105.5\" x2=\"175.75\" y1=\"395.875\" y2=\"395.875\"/><polygon fill=\"#181818\" points=\"165.75,391.875,175.75,395.875,165.75,399.875,169.75,395.875\" style=\"stroke:#181818;stroke-width:1.0;\"/><line style=\"stroke:#181818;stroke-width:1.0;\" x1=\"270\" x2=\"270\" y1=\"259.9063\" y2=\"395.875\"/><line style=\"stroke:#181818;stroke-width:1.0;\" x1=\"270\" x2=\"199.75\" y1=\"395.875\" y2=\"395.875\"/><polygon fill=\"#181818\" points=\"209.75,391.875,199.75,395.875,209.75,399.875,205.75,395.875\" style=\"stroke:#181818;stroke-width:1.0;\"/><line style=\"stroke:#181818;stroke-width:1.0;\" x1=\"187.75\" x2=\"187.75\" y1=\"171.9375\" y2=\"191.9375\"/><polygon fill=\"#181818\" points=\"183.75,181.9375,187.75,191.9375,191.75,181.9375,187.75,185.9375\" style=\"stroke:#181818;stroke-width:1.0;\"/><line style=\"stroke:#181818;stroke-width:1.0;\" x1=\"238.875\" x2=\"187.75\" y1=\"115.9688\" y2=\"115.9688\"/><line style=\"stroke:#181818;stroke-width:1.0;\" x1=\"187.75\" x2=\"187.75\" y1=\"115.9688\" y2=\"137.9688\"/><polygon fill=\"#181818\" points=\"183.75,127.9688,187.75,137.9688,191.75,127.9688,187.75,131.9688\" style=\"stroke:#181818;stroke-width:1.0;\"/><line style=\"stroke:#181818;stroke-width:1.0;\" x1=\"327.875\" x2=\"379\" y1=\"115.9688\" y2=\"115.9688\"/><line style=\"stroke:#181818;stroke-width:1.0;\" x1=\"379\" x2=\"379\" y1=\"115.9688\" y2=\"137.9688\"/><polygon fill=\"#181818\" points=\"375,127.9688,379,137.9688,383,127.9688,379,131.9688\" style=\"stroke:#181818;stroke-width:1.0;\"/><line style=\"stroke:#181818;stroke-width:1.0;\" x1=\"187.75\" x2=\"187.75\" y1=\"407.875\" y2=\"425.875\"/><line style=\"stroke:#181818;stroke-width:1.0;\" x1=\"187.75\" x2=\"271.375\" y1=\"425.875\" y2=\"425.875\"/><polygon fill=\"#181818\" points=\"261.375,421.875,271.375,425.875,261.375,429.875,265.375,425.875\" style=\"stroke:#181818;stroke-width:1.0;\"/><line style=\"stroke:#181818;stroke-width:1.0;\" x1=\"379\" x2=\"379\" y1=\"171.9375\" y2=\"425.875\"/><line style=\"stroke:#181818;stroke-width:1.0;\" x1=\"379\" x2=\"295.375\" y1=\"425.875\" y2=\"425.875\"/><polygon fill=\"#181818\" points=\"305.375,421.875,295.375,425.875,305.375,429.875,301.375,425.875\" style=\"stroke:#181818;stroke-width:1.0;\"/><line style=\"stroke:#181818;stroke-width:1.0;\" x1=\"283.375\" x2=\"283.375\" y1=\"83.9688\" y2=\"103.9688\"/><polygon fill=\"#181818\" points=\"279.375,93.9688,283.375,103.9688,287.375,93.9688,283.375,97.9688\" style=\"stroke:#181818;stroke-width:1.0;\"/><line style=\"stroke:#181818;stroke-width:1.0;\" x1=\"283.375\" x2=\"283.375\" y1=\"437.875\" y2=\"457.875\"/><polygon fill=\"#181818\" points=\"279.375,447.875,283.375,457.875,287.375,447.875,283.375,451.875\" style=\"stroke:#181818;stroke-width:1.0;\"/><!--SRC=[PSp12i8m3CRnUvyYn-uLrjDM5Rpv2bKpB9H4cY2ufxTQ6Trs3F_V5z6GrVHdYXf3YZF2A-GOhWd5cJY1zKptqfXWw40VI63VA9q1w2-PRoW2WolNseuRs-ZH_UwrzplVB7nTO184IxphXtylpoQpTOiwVbKrhLZwoPbQHVdv0G00]--></g></svg>"
          },
          "metadata": {}
        }
      ]
    },
    {
      "cell_type": "code",
      "source": [
        "%%plantuml\n",
        "\n",
        "@startjson\n",
        "<style>\n",
        "  .h1 {\n",
        "    BackGroundColor green\n",
        "    FontColor white\n",
        "    FontStyle italic\n",
        "  }\n",
        "  .h2 {\n",
        "    BackGroundColor red\n",
        "    FontColor white\n",
        "    FontStyle bold\n",
        "  }\n",
        "</style>\n",
        "#highlight \"lastName\"\n",
        "#highlight \"address\" / \"city\" <<h1>>\n",
        "#highlight \"phoneNumbers\" / \"0\" / \"number\" <<h2>>\n",
        "{\n",
        "  \"firstName\": \"John\",\n",
        "  \"lastName\": \"Smith\",\n",
        "  \"isAlive\": true,\n",
        "  \"age\": 28,\n",
        "  \"address\": {\n",
        "    \"streetAddress\": \"21 2nd Street\",\n",
        "    \"city\": \"New York\",\n",
        "    \"state\": \"NY\",\n",
        "    \"postalCode\": \"10021-3100\"\n",
        "  },\n",
        "  \"phoneNumbers\": [\n",
        "    {\n",
        "      \"type\": \"home\",\n",
        "      \"number\": \"212 555-1234\"\n",
        "    },\n",
        "    {\n",
        "      \"type\": \"office\",\n",
        "      \"number\": \"646 555-4567\"\n",
        "    }\n",
        "  ],\n",
        "  \"children\": [],\n",
        "  \"spouse\": null\n",
        "}\n",
        "@endjson"
      ],
      "metadata": {
        "colab": {
          "base_uri": "https://localhost:8080/",
          "height": 215
        },
        "id": "JX_wTqs11CS9",
        "outputId": "8c7eb839-1ba7-452a-ba5a-de5aec3c2be0"
      },
      "execution_count": 6,
      "outputs": [
        {
          "output_type": "display_data",
          "data": {
            "text/plain": [
              "<IPython.core.display.SVG object>"
            ],
            "image/svg+xml": "<svg xmlns=\"http://www.w3.org/2000/svg\" xmlns:xlink=\"http://www.w3.org/1999/xlink\" contentStyleType=\"text/css\" height=\"194px\" preserveAspectRatio=\"none\" style=\"width:708px;height:194px;background:#FFFFFF;\" version=\"1.1\" viewBox=\"0 0 708 194\" width=\"708px\" zoomAndPan=\"magnify\"><defs/><g><rect fill=\"#F1F1F1\" height=\"162.375\" rx=\"5\" ry=\"5\" style=\"stroke:#F1F1F1;stroke-width:1.5;\" width=\"187\" x=\"10\" y=\"18.4063\"/><text fill=\"#000000\" font-family=\"sans-serif\" font-size=\"14\" font-weight=\"bold\" lengthAdjust=\"spacing\" textLength=\"81\" x=\"15\" y=\"33.4014\">firstName</text><text fill=\"#000000\" font-family=\"sans-serif\" font-size=\"14\" lengthAdjust=\"spacing\" textLength=\"31\" x=\"145\" y=\"33.4014\">John</text><line style=\"stroke:#000000;stroke-width:1.0;\" x1=\"140\" x2=\"140\" y1=\"18.4063\" y2=\"38.7031\"/><rect fill=\"#CCFF02\" height=\"20.2969\" rx=\"2\" ry=\"2\" style=\"stroke:#CCFF02;stroke-width:1.0;\" width=\"185\" x=\"11.5\" y=\"38.7031\"/><line style=\"stroke:#000000;stroke-width:1.0;\" x1=\"10\" x2=\"197\" y1=\"38.7031\" y2=\"38.7031\"/><text fill=\"#000000\" font-family=\"sans-serif\" font-size=\"14\" font-weight=\"bold\" lengthAdjust=\"spacing\" textLength=\"77\" x=\"15\" y=\"53.6982\">lastName</text><text fill=\"#000000\" font-family=\"sans-serif\" font-size=\"14\" lengthAdjust=\"spacing\" textLength=\"43\" x=\"145\" y=\"53.6982\">Smith</text><line style=\"stroke:#000000;stroke-width:1.0;\" x1=\"140\" x2=\"140\" y1=\"38.7031\" y2=\"59\"/><line style=\"stroke:#000000;stroke-width:1.0;\" x1=\"10\" x2=\"197\" y1=\"59\" y2=\"59\"/><text fill=\"#000000\" font-family=\"sans-serif\" font-size=\"14\" font-weight=\"bold\" lengthAdjust=\"spacing\" textLength=\"53\" x=\"15\" y=\"73.9951\">isAlive</text><text fill=\"#000000\" font-family=\"sans-serif\" font-size=\"14\" lengthAdjust=\"spacing\" textLength=\"47\" x=\"145\" y=\"73.9951\">☑ true</text><line style=\"stroke:#000000;stroke-width:1.0;\" x1=\"140\" x2=\"140\" y1=\"59\" y2=\"79.2969\"/><line style=\"stroke:#000000;stroke-width:1.0;\" x1=\"10\" x2=\"197\" y1=\"79.2969\" y2=\"79.2969\"/><text fill=\"#000000\" font-family=\"sans-serif\" font-size=\"14\" font-weight=\"bold\" lengthAdjust=\"spacing\" textLength=\"29\" x=\"15\" y=\"94.292\">age</text><text fill=\"#000000\" font-family=\"sans-serif\" font-size=\"14\" lengthAdjust=\"spacing\" textLength=\"16\" x=\"145\" y=\"94.292\">28</text><line style=\"stroke:#000000;stroke-width:1.0;\" x1=\"140\" x2=\"140\" y1=\"79.2969\" y2=\"99.5938\"/><line style=\"stroke:#000000;stroke-width:1.0;\" x1=\"10\" x2=\"197\" y1=\"99.5938\" y2=\"99.5938\"/><text fill=\"#000000\" font-family=\"sans-serif\" font-size=\"14\" font-weight=\"bold\" lengthAdjust=\"spacing\" textLength=\"64\" x=\"15\" y=\"114.5889\">address</text><text fill=\"#000000\" font-family=\"sans-serif\" font-size=\"14\" lengthAdjust=\"spacing\" textLength=\"12\" x=\"145\" y=\"114.5889\">   </text><line style=\"stroke:#000000;stroke-width:1.0;\" x1=\"140\" x2=\"140\" y1=\"99.5938\" y2=\"119.8906\"/><line style=\"stroke:#000000;stroke-width:1.0;\" x1=\"10\" x2=\"197\" y1=\"119.8906\" y2=\"119.8906\"/><text fill=\"#000000\" font-family=\"sans-serif\" font-size=\"14\" font-weight=\"bold\" lengthAdjust=\"spacing\" textLength=\"120\" x=\"15\" y=\"134.8857\">phoneNumbers</text><text fill=\"#000000\" font-family=\"sans-serif\" font-size=\"14\" lengthAdjust=\"spacing\" textLength=\"12\" x=\"145\" y=\"134.8857\">   </text><line style=\"stroke:#000000;stroke-width:1.0;\" x1=\"140\" x2=\"140\" y1=\"119.8906\" y2=\"140.1875\"/><line style=\"stroke:#000000;stroke-width:1.0;\" x1=\"10\" x2=\"197\" y1=\"140.1875\" y2=\"140.1875\"/><text fill=\"#000000\" font-family=\"sans-serif\" font-size=\"14\" font-weight=\"bold\" lengthAdjust=\"spacing\" textLength=\"65\" x=\"15\" y=\"155.1826\">children</text><text fill=\"#000000\" font-family=\"sans-serif\" font-size=\"14\" lengthAdjust=\"spacing\" textLength=\"12\" x=\"145\" y=\"155.1826\">   </text><line style=\"stroke:#000000;stroke-width:1.0;\" x1=\"140\" x2=\"140\" y1=\"140.1875\" y2=\"160.4844\"/><line style=\"stroke:#000000;stroke-width:1.0;\" x1=\"10\" x2=\"197\" y1=\"160.4844\" y2=\"160.4844\"/><text fill=\"#000000\" font-family=\"sans-serif\" font-size=\"14\" font-weight=\"bold\" lengthAdjust=\"spacing\" textLength=\"57\" x=\"15\" y=\"175.4795\">spouse</text><text fill=\"#000000\" font-family=\"sans-serif\" font-size=\"14\" lengthAdjust=\"spacing\" textLength=\"7\" x=\"145\" y=\"175.4795\">␀</text><line style=\"stroke:#000000;stroke-width:1.0;\" x1=\"140\" x2=\"140\" y1=\"160.4844\" y2=\"180.7813\"/><rect fill=\"none\" height=\"162.375\" rx=\"5\" ry=\"5\" style=\"stroke:#000000;stroke-width:1.5;\" width=\"187\" x=\"10\" y=\"18.4063\"/><rect fill=\"#F1F1F1\" height=\"81.1875\" rx=\"5\" ry=\"5\" style=\"stroke:#F1F1F1;stroke-width:1.5;\" width=\"233\" x=\"234\" y=\"10\"/><text fill=\"#000000\" font-family=\"sans-serif\" font-size=\"14\" font-weight=\"bold\" lengthAdjust=\"spacing\" textLength=\"115\" x=\"239\" y=\"24.9951\">streetAddress</text><text fill=\"#000000\" font-family=\"sans-serif\" font-size=\"14\" lengthAdjust=\"spacing\" textLength=\"98\" x=\"364\" y=\"24.9951\">21 2nd Street</text><line style=\"stroke:#000000;stroke-width:1.0;\" x1=\"359\" x2=\"359\" y1=\"10\" y2=\"30.2969\"/><rect fill=\"#008000\" height=\"20.2969\" rx=\"2\" ry=\"2\" style=\"stroke:#008000;stroke-width:1.0;\" width=\"231\" x=\"235.5\" y=\"30.2969\"/><line style=\"stroke:#000000;stroke-width:1.0;\" x1=\"234\" x2=\"467\" y1=\"30.2969\" y2=\"30.2969\"/><text fill=\"#FFFFFF\" font-family=\"sans-serif\" font-size=\"14\" font-style=\"italic\" lengthAdjust=\"spacing\" textLength=\"25\" x=\"239\" y=\"45.292\">city</text><text fill=\"#FFFFFF\" font-family=\"sans-serif\" font-size=\"14\" font-style=\"italic\" lengthAdjust=\"spacing\" textLength=\"66\" x=\"364\" y=\"45.292\">New York</text><line style=\"stroke:#000000;stroke-width:1.0;\" x1=\"359\" x2=\"359\" y1=\"30.2969\" y2=\"50.5938\"/><line style=\"stroke:#000000;stroke-width:1.0;\" x1=\"234\" x2=\"467\" y1=\"50.5938\" y2=\"50.5938\"/><text fill=\"#000000\" font-family=\"sans-serif\" font-size=\"14\" font-weight=\"bold\" lengthAdjust=\"spacing\" textLength=\"44\" x=\"239\" y=\"65.5889\">state</text><text fill=\"#000000\" font-family=\"sans-serif\" font-size=\"14\" lengthAdjust=\"spacing\" textLength=\"19\" x=\"364\" y=\"65.5889\">NY</text><line style=\"stroke:#000000;stroke-width:1.0;\" x1=\"359\" x2=\"359\" y1=\"50.5938\" y2=\"70.8906\"/><line style=\"stroke:#000000;stroke-width:1.0;\" x1=\"234\" x2=\"467\" y1=\"70.8906\" y2=\"70.8906\"/><text fill=\"#000000\" font-family=\"sans-serif\" font-size=\"14\" font-weight=\"bold\" lengthAdjust=\"spacing\" textLength=\"91\" x=\"239\" y=\"85.8857\">postalCode</text><text fill=\"#000000\" font-family=\"sans-serif\" font-size=\"14\" lengthAdjust=\"spacing\" textLength=\"86\" x=\"364\" y=\"85.8857\">10021-3100</text><line style=\"stroke:#000000;stroke-width:1.0;\" x1=\"359\" x2=\"359\" y1=\"70.8906\" y2=\"91.1875\"/><rect fill=\"none\" height=\"81.1875\" rx=\"5\" ry=\"5\" style=\"stroke:#000000;stroke-width:1.5;\" width=\"233\" x=\"234\" y=\"10\"/><rect fill=\"#F1F1F1\" height=\"40.5938\" rx=\"5\" ry=\"5\" style=\"stroke:#F1F1F1;stroke-width:1.5;\" width=\"22\" x=\"339.5\" y=\"109.0938\"/><text fill=\"#000000\" font-family=\"sans-serif\" font-size=\"14\" lengthAdjust=\"spacing\" textLength=\"12\" x=\"344.5\" y=\"124.0889\">   </text><line style=\"stroke:#000000;stroke-width:1.0;\" x1=\"339.5\" x2=\"361.5\" y1=\"129.3906\" y2=\"129.3906\"/><text fill=\"#000000\" font-family=\"sans-serif\" font-size=\"14\" lengthAdjust=\"spacing\" textLength=\"12\" x=\"344.5\" y=\"144.3857\">   </text><rect fill=\"none\" height=\"40.5938\" rx=\"5\" ry=\"5\" style=\"stroke:#000000;stroke-width:1.5;\" width=\"22\" x=\"339.5\" y=\"109.0938\"/><rect fill=\"#F1F1F1\" height=\"40.5938\" rx=\"5\" ry=\"5\" style=\"stroke:#F1F1F1;stroke-width:1.5;\" width=\"192\" x=\"504\" y=\"79.0938\"/><text fill=\"#000000\" font-family=\"sans-serif\" font-size=\"14\" font-weight=\"bold\" lengthAdjust=\"spacing\" textLength=\"36\" x=\"509\" y=\"94.0889\">type</text><text fill=\"#000000\" font-family=\"sans-serif\" font-size=\"14\" lengthAdjust=\"spacing\" textLength=\"41\" x=\"580\" y=\"94.0889\">home</text><line style=\"stroke:#000000;stroke-width:1.0;\" x1=\"575\" x2=\"575\" y1=\"79.0938\" y2=\"99.3906\"/><rect fill=\"#FF0000\" height=\"20.2969\" rx=\"2\" ry=\"2\" style=\"stroke:#FF0000;stroke-width:1.0;\" width=\"190\" x=\"505.5\" y=\"99.3906\"/><line style=\"stroke:#000000;stroke-width:1.0;\" x1=\"504\" x2=\"696\" y1=\"99.3906\" y2=\"99.3906\"/><text fill=\"#FFFFFF\" font-family=\"sans-serif\" font-size=\"14\" font-weight=\"bold\" lengthAdjust=\"spacing\" textLength=\"61\" x=\"509\" y=\"114.3857\">number</text><text fill=\"#FFFFFF\" font-family=\"sans-serif\" font-size=\"14\" font-weight=\"bold\" lengthAdjust=\"spacing\" textLength=\"111\" x=\"580\" y=\"114.3857\">212 555-1234</text><line style=\"stroke:#000000;stroke-width:1.0;\" x1=\"575\" x2=\"575\" y1=\"99.3906\" y2=\"119.6875\"/><rect fill=\"none\" height=\"40.5938\" rx=\"5\" ry=\"5\" style=\"stroke:#000000;stroke-width:1.5;\" width=\"192\" x=\"504\" y=\"79.0938\"/><rect fill=\"#F1F1F1\" height=\"40.5938\" rx=\"5\" ry=\"5\" style=\"stroke:#F1F1F1;stroke-width:1.5;\" width=\"179\" x=\"510.5\" y=\"138.0938\"/><text fill=\"#000000\" font-family=\"sans-serif\" font-size=\"14\" font-weight=\"bold\" lengthAdjust=\"spacing\" textLength=\"36\" x=\"515.5\" y=\"153.0889\">type</text><text fill=\"#000000\" font-family=\"sans-serif\" font-size=\"14\" lengthAdjust=\"spacing\" textLength=\"42\" x=\"586.5\" y=\"153.0889\">office</text><line style=\"stroke:#000000;stroke-width:1.0;\" x1=\"581.5\" x2=\"581.5\" y1=\"138.0938\" y2=\"158.3906\"/><line style=\"stroke:#000000;stroke-width:1.0;\" x1=\"510.5\" x2=\"689.5\" y1=\"158.3906\" y2=\"158.3906\"/><text fill=\"#000000\" font-family=\"sans-serif\" font-size=\"14\" font-weight=\"bold\" lengthAdjust=\"spacing\" textLength=\"61\" x=\"515.5\" y=\"173.3857\">number</text><text fill=\"#000000\" font-family=\"sans-serif\" font-size=\"14\" lengthAdjust=\"spacing\" textLength=\"98\" x=\"586.5\" y=\"173.3857\">646 555-4567</text><line style=\"stroke:#000000;stroke-width:1.0;\" x1=\"581.5\" x2=\"581.5\" y1=\"158.3906\" y2=\"178.6875\"/><rect fill=\"none\" height=\"40.5938\" rx=\"5\" ry=\"5\" style=\"stroke:#000000;stroke-width:1.5;\" width=\"179\" x=\"510.5\" y=\"138.0938\"/><rect fill=\"#F1F1F1\" height=\"15\" rx=\"5\" ry=\"5\" style=\"stroke:#F1F1F1;stroke-width:1.5;\" width=\"30\" x=\"342.5\" y=\"168.0938\"/><rect fill=\"none\" height=\"15\" rx=\"5\" ry=\"5\" style=\"stroke:#000000;stroke-width:1.5;\" width=\"30\" x=\"342.5\" y=\"168.0938\"/><path d=\"M185,109.5938 L198,109.5938 C204.0927,109.5938 223.2786,102.9208 246.0621,94.0633 \" fill=\"none\" style=\"stroke:#000000;stroke-width:1.0;stroke-dasharray:3.0,3.0;\"/><path d=\"M247.1877,96.9336 L248.2148,93.219 L244.9364,91.193 L253.2378,91.2492 L247.1877,96.9336 \" fill=\"#000000\" style=\"stroke:#000000;stroke-width:1.0;\"/><ellipse cx=\"185\" cy=\"109.5938\" fill=\"#000000\" rx=\"3\" ry=\"3\" style=\"stroke:#000000;stroke-width:1.0;\"/><path d=\"M350,119.5938 L363,119.5938 C406.931,119.5938 455.2895,116.1249 496.7684,112.0766 \" fill=\"none\" style=\"stroke:#000000;stroke-width:1.0;stroke-dasharray:3.0,3.0;\"/><path d=\"M497.0731,115.1415 L499.0671,111.848 L496.4636,109.0116 L504.4307,111.3146 L497.0731,115.1415 \" fill=\"#000000\" style=\"stroke:#000000;stroke-width:1.0;\"/><ellipse cx=\"350\" cy=\"119.5938\" fill=\"#000000\" rx=\"3\" ry=\"3\" style=\"stroke:#000000;stroke-width:1.0;\"/><path d=\"M350,139.5938 L363,139.5938 C409.2413,139.5938 460.4054,143.2474 503.2829,147.3503 \" fill=\"none\" style=\"stroke:#000000;stroke-width:1.0;stroke-dasharray:3.0,3.0;\"/><path d=\"M502.9856,150.4026 L505.5721,147.5732 L503.5802,144.2979 L510.9137,148.0934 L502.9856,150.4026 \" fill=\"#000000\" style=\"stroke:#000000;stroke-width:1.0;\"/><ellipse cx=\"350\" cy=\"139.5938\" fill=\"#000000\" rx=\"3\" ry=\"3\" style=\"stroke:#000000;stroke-width:1.0;\"/><path d=\"M185,129.5938 L198,129.5938 C246.5164,129.5938 303.7435,129.5938 332.1466,129.5938 \" fill=\"none\" style=\"stroke:#000000;stroke-width:1.0;stroke-dasharray:3.0,3.0;\"/><path d=\"M332.1466,132.6068 L334.4063,129.5938 L332.1466,126.5807 L339.6791,129.5938 L332.1466,132.6068 \" fill=\"#000000\" style=\"stroke:#000000;stroke-width:1.0;\"/><ellipse cx=\"185\" cy=\"129.5938\" fill=\"#000000\" rx=\"3\" ry=\"3\" style=\"stroke:#000000;stroke-width:1.0;\"/><path d=\"M185,150.5938 L198,150.5938 C214.4924,150.5938 217.8076,156.4625 234,159.5938 C270.1225,166.5791 313.1447,171.6842 335.2586,174.0765 \" fill=\"none\" style=\"stroke:#000000;stroke-width:1.0;stroke-dasharray:3.0,3.0;\"/><path d=\"M334.9357,177.131 L337.5494,174.3187 L335.5815,171.0221 L342.8947,174.8838 L334.9357,177.131 \" fill=\"#000000\" style=\"stroke:#000000;stroke-width:1.0;\"/><ellipse cx=\"185\" cy=\"150.5938\" fill=\"#000000\" rx=\"3\" ry=\"3\" style=\"stroke:#000000;stroke-width:1.0;\"/><!--SRC=[ZPDlQzim4CRV-rCSsfi4aZHs_goOKDfcRKT8GfcRGXbxeTXAh4MMZ7nE22FVVMVP2GGws0lBw7TtZnwTfFi2kSNVXT7UfC2Z4dSUG2_ruG_z0Hvvl7knfjJ9r2XZOMk5q2xoR3JMx91A51SMLI8WaIiP4pmvkU0VSbOa_o6sDYfnKfERnkANL6vJHHy2Kxp09Sy4kw8yIQme2WOtm6A9HmQJIUhVNPVcgT5YMMPhOUlClXkr8wuYe8hAEjj8somJ0fkPLBDEXI-B4uqoYMcDPV6WvBwYQ4lX4DzMq-2sdZJkmgOlh41gB3vSC0jy27G2aUDE59gDK70f3l1XxExCwGpHMLX-d55k2AgfIHpt-_t0xmxenwf6EWzNcm_XfwkhxL0KZxchJ0rjhdEcJMUSlm16er7N3mP3viAdpkSAPhEHyQSQu-7OQGn7uw-D1es_dBiubOgQeIjdDIboKnQLeYwLyaxUlT29kxVUg-8QLuivx6ahqcZmUq4_6FHyVosG-wsLtcbpq12RB9Tqdr1ceksrNbxdK9ZInW8IIGSWroLITTkRyJs77wMkyaAePgstHHkYfpE49xsNrkXCQFHcxuiw2RuRZ7A3Bdayx3vAX4XOCWNl2- -RsF1I8PN69f5w6yBgxRbxwysvtfPqEKAWXpMbfu7sIB7eBm00]--></g></svg>"
          },
          "metadata": {}
        }
      ]
    },
    {
      "cell_type": "code",
      "source": [
        "%%plantuml\n",
        "\n",
        "@startmindmap\n",
        "* Debian\n",
        "** Ubuntu\n",
        "*** Linux Mint\n",
        "*** Kubuntu\n",
        "*** Lubuntu\n",
        "*** KDE Neon\n",
        "** LMDE\n",
        "** SolydXK\n",
        "** SteamOS\n",
        "** Raspbian with a very long name\n",
        "*** <s>Raspmbc</s> => OSMC\n",
        "*** <s>Raspyfi</s> => Volumio\n",
        "@endmindmap"
      ],
      "metadata": {
        "colab": {
          "base_uri": "https://localhost:8080/",
          "height": 437
        },
        "id": "9_ytW9af1Fiq",
        "outputId": "16110b9c-9da2-4f73-db1a-447b92a4686a"
      },
      "execution_count": null,
      "outputs": [
        {
          "output_type": "display_data",
          "data": {
            "text/plain": [
              "<IPython.core.display.SVG object>"
            ],
            "image/svg+xml": "<svg xmlns=\"http://www.w3.org/2000/svg\" xmlns:xlink=\"http://www.w3.org/1999/xlink\" contentStyleType=\"text/css\" height=\"416px\" preserveAspectRatio=\"none\" style=\"width:601px;height:416px;background:#FFFFFF;\" version=\"1.1\" viewBox=\"0 0 601 416\" width=\"601px\" zoomAndPan=\"magnify\"><defs/><g><rect fill=\"#F1F1F1\" height=\"36.2969\" rx=\"12.5\" ry=\"12.5\" style=\"stroke:#181818;stroke-width:1.5;\" width=\"71\" x=\"10\" y=\"188.8906\"/><text fill=\"#000000\" font-family=\"sans-serif\" font-size=\"14\" lengthAdjust=\"spacing\" textLength=\"51\" x=\"20\" y=\"211.8857\">Debian</text><rect fill=\"#F1F1F1\" height=\"36.2969\" rx=\"12.5\" ry=\"12.5\" style=\"stroke:#181818;stroke-width:1.5;\" width=\"71\" x=\"131\" y=\"104.4453\"/><text fill=\"#000000\" font-family=\"sans-serif\" font-size=\"14\" lengthAdjust=\"spacing\" textLength=\"51\" x=\"141\" y=\"127.4404\">Ubuntu</text><rect fill=\"#F1F1F1\" height=\"36.2969\" rx=\"12.5\" ry=\"12.5\" style=\"stroke:#181818;stroke-width:1.5;\" width=\"93\" x=\"252\" y=\"20\"/><text fill=\"#000000\" font-family=\"sans-serif\" font-size=\"14\" lengthAdjust=\"spacing\" textLength=\"73\" x=\"262\" y=\"42.9951\">Linux Mint</text><path d=\"M202,122.5938 L212,122.5938 C227,122.5938 227,38.1484 242,38.1484 L252,38.1484 \" fill=\"none\" style=\"stroke:#181818;stroke-width:1.0;\"/><rect fill=\"#F1F1F1\" height=\"36.2969\" rx=\"12.5\" ry=\"12.5\" style=\"stroke:#181818;stroke-width:1.5;\" width=\"80\" x=\"252\" y=\"76.2969\"/><text fill=\"#000000\" font-family=\"sans-serif\" font-size=\"14\" lengthAdjust=\"spacing\" textLength=\"60\" x=\"262\" y=\"99.292\">Kubuntu</text><path d=\"M202,122.5938 L212,122.5938 C227,122.5938 227,94.4453 242,94.4453 L252,94.4453 \" fill=\"none\" style=\"stroke:#181818;stroke-width:1.0;\"/><rect fill=\"#F1F1F1\" height=\"36.2969\" rx=\"12.5\" ry=\"12.5\" style=\"stroke:#181818;stroke-width:1.5;\" width=\"78\" x=\"252\" y=\"132.5938\"/><text fill=\"#000000\" font-family=\"sans-serif\" font-size=\"14\" lengthAdjust=\"spacing\" textLength=\"58\" x=\"262\" y=\"155.5889\">Lubuntu</text><path d=\"M202,122.5938 L212,122.5938 C227,122.5938 227,150.7422 242,150.7422 L252,150.7422 \" fill=\"none\" style=\"stroke:#181818;stroke-width:1.0;\"/><rect fill=\"#F1F1F1\" height=\"36.2969\" rx=\"12.5\" ry=\"12.5\" style=\"stroke:#181818;stroke-width:1.5;\" width=\"91\" x=\"252\" y=\"188.8906\"/><text fill=\"#000000\" font-family=\"sans-serif\" font-size=\"14\" lengthAdjust=\"spacing\" textLength=\"71\" x=\"262\" y=\"211.8857\">KDE Neon</text><path d=\"M202,122.5938 L212,122.5938 C227,122.5938 227,207.0391 242,207.0391 L252,207.0391 \" fill=\"none\" style=\"stroke:#181818;stroke-width:1.0;\"/><path d=\"M81,207.0391 L91,207.0391 C106,207.0391 106,122.5938 121,122.5938 L131,122.5938 \" fill=\"none\" style=\"stroke:#181818;stroke-width:1.0;\"/><rect fill=\"#F1F1F1\" height=\"36.2969\" rx=\"12.5\" ry=\"12.5\" style=\"stroke:#181818;stroke-width:1.5;\" width=\"60\" x=\"131\" y=\"160.7422\"/><text fill=\"#000000\" font-family=\"sans-serif\" font-size=\"14\" lengthAdjust=\"spacing\" textLength=\"40\" x=\"141\" y=\"183.7373\">LMDE</text><path d=\"M81,207.0391 L91,207.0391 C106,207.0391 106,178.8906 121,178.8906 L131,178.8906 \" fill=\"none\" style=\"stroke:#181818;stroke-width:1.0;\"/><rect fill=\"#F1F1F1\" height=\"36.2969\" rx=\"12.5\" ry=\"12.5\" style=\"stroke:#181818;stroke-width:1.5;\" width=\"79\" x=\"131\" y=\"217.0391\"/><text fill=\"#000000\" font-family=\"sans-serif\" font-size=\"14\" lengthAdjust=\"spacing\" textLength=\"59\" x=\"141\" y=\"240.0342\">SolydXK</text><path d=\"M81,207.0391 L91,207.0391 C106,207.0391 106,235.1875 121,235.1875 L131,235.1875 \" fill=\"none\" style=\"stroke:#181818;stroke-width:1.0;\"/><rect fill=\"#F1F1F1\" height=\"36.2969\" rx=\"12.5\" ry=\"12.5\" style=\"stroke:#181818;stroke-width:1.5;\" width=\"87\" x=\"131\" y=\"273.3359\"/><text fill=\"#000000\" font-family=\"sans-serif\" font-size=\"14\" lengthAdjust=\"spacing\" textLength=\"67\" x=\"141\" y=\"296.3311\">SteamOS</text><path d=\"M81,207.0391 L91,207.0391 C106,207.0391 106,291.4844 121,291.4844 L131,291.4844 \" fill=\"none\" style=\"stroke:#181818;stroke-width:1.0;\"/><rect fill=\"#F1F1F1\" height=\"36.2969\" rx=\"12.5\" ry=\"12.5\" style=\"stroke:#181818;stroke-width:1.5;\" width=\"247\" x=\"131\" y=\"329.6328\"/><text fill=\"#000000\" font-family=\"sans-serif\" font-size=\"14\" lengthAdjust=\"spacing\" textLength=\"227\" x=\"141\" y=\"352.6279\">Raspbian with a very long name</text><rect fill=\"#F1F1F1\" height=\"36.2969\" rx=\"12.5\" ry=\"12.5\" style=\"stroke:#181818;stroke-width:1.5;\" width=\"159\" x=\"428\" y=\"301.4844\"/><text fill=\"#000000\" font-family=\"sans-serif\" font-size=\"14\" lengthAdjust=\"spacing\" text-decoration=\"line-through\" textLength=\"67\" x=\"438\" y=\"324.4795\">Raspmbc</text><text fill=\"#000000\" font-family=\"sans-serif\" font-size=\"14\" lengthAdjust=\"spacing\" textLength=\"68\" x=\"509\" y=\"324.4795\">=&gt; OSMC</text><path d=\"M378,347.7813 L388,347.7813 C403,347.7813 403,319.6328 418,319.6328 L428,319.6328 \" fill=\"none\" style=\"stroke:#181818;stroke-width:1.0;\"/><rect fill=\"#F1F1F1\" height=\"36.2969\" rx=\"12.5\" ry=\"12.5\" style=\"stroke:#181818;stroke-width:1.5;\" width=\"161\" x=\"428\" y=\"357.7813\"/><text fill=\"#000000\" font-family=\"sans-serif\" font-size=\"14\" lengthAdjust=\"spacing\" text-decoration=\"line-through\" textLength=\"53\" x=\"438\" y=\"380.7764\">Raspyfi</text><text fill=\"#000000\" font-family=\"sans-serif\" font-size=\"14\" lengthAdjust=\"spacing\" textLength=\"84\" x=\"495\" y=\"380.7764\">=&gt; Volumio</text><path d=\"M378,347.7813 L388,347.7813 C403,347.7813 403,375.9297 418,375.9297 L428,375.9297 \" fill=\"none\" style=\"stroke:#181818;stroke-width:1.0;\"/><path d=\"M81,207.0391 L91,207.0391 C106,207.0391 106,347.7813 121,347.7813 L131,347.7813 \" fill=\"none\" style=\"stroke:#181818;stroke-width:1.0;\"/><!--SRC=[JL3HJi9047o_hzX7Q0826cC84YAj6cY5K4fylRP7tTZRQzezaB_tMYNXwMPlPdPkRj6mh5aZvLfMmWDVfIX9U1uagIMs3daG8jaVY92u6zVsXhh1Qp-03sKwTnZvGNl6fhpad-iEif9w4xTm9vkgpO4pyXT8EAdw0gMX0aXgrIsRDVDMfTDiTjVCuNaEcpXQtbAN8rwfWocjHYCMolNuxoAsfIHEeh3Ttg0X60ydeydzS3nA5Sj9Bw5lCcU2pEWAImMCMlL5xsqRGcDidId8iU4QKylEtHShUPAmSssTRWhjrDj7VOY3woK4TCBQa5RkerQ7w4y4xuRZod0dVdmOl213h6htA3X4mbT7QKjsripaICKKalthu4c4aWeh2nUaI2oD2wWlZej_0G00]--></g></svg>"
          },
          "metadata": {}
        }
      ]
    },
    {
      "cell_type": "code",
      "source": [
        "%%plantuml\n",
        "\n",
        "@startuml\n",
        "nwdiag {\n",
        "  group {\n",
        "    color = \"#FFaaaa\";\n",
        "    web01;\n",
        "    db01;\n",
        "  }\n",
        "  group {\n",
        "    color = \"#aaaaFF\";\n",
        "    web02;\n",
        "    db02;\n",
        "  }\n",
        "  network dmz {\n",
        "      address = \"210.x.x.x/24\"\n",
        "\n",
        "      web01 [address = \"210.x.x.1\"];\n",
        "      web02 [address = \"210.x.x.2\"];\n",
        "  }\n",
        "  network internal {\n",
        "      address = \"172.x.x.x/24\";\n",
        "\n",
        "      web01 [address = \"172.x.x.1\"];\n",
        "      web02 [address = \"172.x.x.2\"];\n",
        "      db01 ;\n",
        "      db02 ;\n",
        "  }\n",
        "}\n",
        "@enduml"
      ],
      "metadata": {
        "colab": {
          "base_uri": "https://localhost:8080/",
          "height": 279
        },
        "id": "6MFo8Fii1IJ5",
        "outputId": "743f1649-e061-4976-c939-8f20bb03814d"
      },
      "execution_count": null,
      "outputs": [
        {
          "output_type": "display_data",
          "data": {
            "text/plain": [
              "<IPython.core.display.SVG object>"
            ],
            "image/svg+xml": "<svg xmlns=\"http://www.w3.org/2000/svg\" xmlns:xlink=\"http://www.w3.org/1999/xlink\" contentStyleType=\"text/css\" height=\"258px\" preserveAspectRatio=\"none\" style=\"width:274px;height:258px;background:#FFFFFF;\" version=\"1.1\" viewBox=\"0 0 274 258\" width=\"274px\" zoomAndPan=\"magnify\"><defs/><g><text fill=\"#000000\" font-family=\"sans-serif\" font-size=\"12\" lengthAdjust=\"spacing\" textLength=\"26\" x=\"52\" y=\"16.1387\">dmz</text><text fill=\"#000000\" font-family=\"sans-serif\" font-size=\"12\" lengthAdjust=\"spacing\" textLength=\"73\" x=\"5\" y=\"30.1074\">210.x.x.x/24</text><text fill=\"#000000\" font-family=\"sans-serif\" font-size=\"12\" lengthAdjust=\"spacing\" textLength=\"44\" x=\"34\" y=\"145.7168\">internal</text><text fill=\"#000000\" font-family=\"sans-serif\" font-size=\"12\" lengthAdjust=\"spacing\" textLength=\"73\" x=\"5\" y=\"159.6855\">172.x.x.x/24</text><rect fill=\"#FFAAAA\" height=\"160.7422\" style=\"stroke:#FFAAAA;stroke-width:1.0;\" width=\"71\" x=\"93\" y=\"59.2734\"/><rect fill=\"#AAAAFF\" height=\"160.7422\" style=\"stroke:#AAAAFF;stroke-width:1.0;\" width=\"72\" x=\"184\" y=\"59.2734\"/><rect fill=\"#E2E2F0\" height=\"5\" style=\"stroke:#181818;stroke-width:1.0;\" width=\"183\" x=\"83\" y=\"16.4688\"/><rect fill=\"#E2E2F0\" height=\"5\" style=\"stroke:#181818;stroke-width:1.0;\" width=\"183\" x=\"83\" y=\"146.0469\"/><path d=\"M130.5,21.4688 L130.5,64.2734 \" fill=\"none\" style=\"stroke:#181818;stroke-width:1.0;\"/><text fill=\"#000000\" font-family=\"sans-serif\" font-size=\"11\" lengthAdjust=\"spacing\" textLength=\"51\" x=\"105\" y=\"44.1792\">210.x.x.1</text><path d=\"M130.5,98.2422 L130.5,146.0469 \" fill=\"none\" style=\"stroke:#181818;stroke-width:1.0;\"/><text fill=\"#000000\" font-family=\"sans-serif\" font-size=\"11\" lengthAdjust=\"spacing\" textLength=\"51\" x=\"105\" y=\"125.9526\">172.x.x.1</text><path d=\"M222,21.4688 L222,64.2734 \" fill=\"none\" style=\"stroke:#181818;stroke-width:1.0;\"/><text fill=\"#000000\" font-family=\"sans-serif\" font-size=\"11\" lengthAdjust=\"spacing\" textLength=\"51\" x=\"196.5\" y=\"44.1792\">210.x.x.2</text><path d=\"M222,98.2422 L222,146.0469 \" fill=\"none\" style=\"stroke:#181818;stroke-width:1.0;\"/><text fill=\"#000000\" font-family=\"sans-serif\" font-size=\"11\" lengthAdjust=\"spacing\" textLength=\"51\" x=\"196.5\" y=\"125.9526\">172.x.x.2</text><path d=\"M126.5,151.0469 L126.5,181.0469 \" fill=\"none\" style=\"stroke:#181818;stroke-width:1.0;\"/><path d=\"M218,151.0469 L218,181.0469 \" fill=\"none\" style=\"stroke:#181818;stroke-width:1.0;\"/><rect fill=\"#F1F1F1\" height=\"33.9688\" style=\"stroke:#181818;stroke-width:0.5;\" width=\"61\" x=\"98\" y=\"64.2734\"/><text fill=\"#000000\" font-family=\"sans-serif\" font-size=\"12\" lengthAdjust=\"spacing\" textLength=\"41\" x=\"108\" y=\"85.4121\">web01</text><rect fill=\"#F1F1F1\" height=\"33.9688\" style=\"stroke:#181818;stroke-width:0.5;\" width=\"62\" x=\"189\" y=\"64.2734\"/><text fill=\"#000000\" font-family=\"sans-serif\" font-size=\"12\" lengthAdjust=\"spacing\" textLength=\"42\" x=\"199\" y=\"85.4121\">web02</text><rect fill=\"#F1F1F1\" height=\"33.9688\" style=\"stroke:#181818;stroke-width:0.5;\" width=\"51\" x=\"103\" y=\"181.0469\"/><text fill=\"#000000\" font-family=\"sans-serif\" font-size=\"12\" lengthAdjust=\"spacing\" textLength=\"31\" x=\"113\" y=\"202.1855\">db01</text><rect fill=\"#F1F1F1\" height=\"33.9688\" style=\"stroke:#181818;stroke-width:0.5;\" width=\"52\" x=\"194\" y=\"181.0469\"/><text fill=\"#000000\" font-family=\"sans-serif\" font-size=\"12\" lengthAdjust=\"spacing\" textLength=\"32\" x=\"204\" y=\"202.1855\">db02</text><!--SRC=[VP2n3i8W54NtViKDxbfUJ1mQLtx2EA2Gfh62eMrgDFrtfL3Bq0hB1Sw54qolAbdYdG6bizrZJC3LrjRX2BOHGdu7AyRjNbzo7gAAQLXj-fuGIPD-JPgQHhUzTJUe-ols0QcKqqtZxo2URvz-xcZFidW-Ik2qW75sBXA85Y4AKFfwPLhjZAoN5FY1PeLYtM7Y_ZfC4CsG_qSa2qAm6pu0]--></g></svg>"
          },
          "metadata": {}
        }
      ]
    },
    {
      "cell_type": "code",
      "source": [],
      "metadata": {
        "id": "-la9eiu21LIq"
      },
      "execution_count": null,
      "outputs": []
    }
  ]
}