{
  "nbformat": 4,
  "nbformat_minor": 0,
  "metadata": {
    "colab": {
      "provenance": [],
      "toc_visible": true,
      "authorship_tag": "ABX9TyMIBdTupMNX4ZmrCOtprjeN",
      "include_colab_link": true
    },
    "kernelspec": {
      "name": "python3",
      "display_name": "Python 3"
    },
    "language_info": {
      "name": "python"
    }
  },
  "cells": [
    {
      "cell_type": "markdown",
      "metadata": {
        "id": "view-in-github",
        "colab_type": "text"
      },
      "source": [
        "<a href=\"https://colab.research.google.com/github/assuncaomarcos/classroom_extensions/blob/main/notebooks/MongoDB_Shell_Magics.ipynb\" target=\"_parent\"><img src=\"https://colab.research.google.com/assets/colab-badge.svg\" alt=\"Open In Colab\"/></a>"
      ]
    },
    {
      "cell_type": "markdown",
      "source": [
        "# MongoDB Shell Magics\n",
        "-------\n",
        "\n",
        "This notebook demonstrates the MongoDB Shell magics (`%mongo_config` and `%%mongo`). The magic `%%mongo` has a straightforward execution. It creates a process running the `mongosh` and writes to its standard input, displaying the result of the execution in the cell. The magic `%mongo_config` is used to configure the `mongosh` parameters to avoid entering them every time `%%mongo` is used."
      ],
      "metadata": {
        "id": "JTL8WOsfWrkm"
      }
    },
    {
      "cell_type": "markdown",
      "source": [
        "## Installing MongoDB and Sample Databases\n",
        "--------------\n",
        "\n",
        "The following cell will install MongoDB, the Mongo Shell and import a few sample databases."
      ],
      "metadata": {
        "id": "1jRqjcVcX6IJ"
      }
    },
    {
      "cell_type": "code",
      "source": [
        "\"\"\" Install MongoDB and import sample databases \"\"\"\n",
        "\n",
        "import subprocess\n",
        "from os import path\n",
        "import os\n",
        "import glob\n",
        "\n",
        "\n",
        "SOFTWARE_DESC = {\n",
        "    \"mongodb\": \"MongoDB\",\n",
        "    \"mongodb_shell\": \"MongoDB Shell\"\n",
        "}\n",
        "\n",
        "INSTALL_CMDS = {\n",
        "    \"mongodb\": [\n",
        "        \"apt update\",\n",
        "        \"apt install mongodb\",\n",
        "        \"service mongodb start\"\n",
        "    ],\n",
        "    \"mongodb_shell\": [\n",
        "        \"wget -qO- https://www.mongodb.org/static/pgp/server-6.0.asc | sudo tee /etc/apt/trusted.gpg.d/server-6.0.asc\",\n",
        "        \"sudo apt-get install gnupg\",\n",
        "        \"echo 'deb [ arch=amd64,arm64 ] https://repo.mongodb.org/apt/ubuntu focal/mongodb-org/6.0 multiverse' | \"\n",
        "        \"sudo tee /etc/apt/sources.list.d/mongodb-org-6.0.list\",\n",
        "        \"sudo apt update\",\n",
        "        \"sudo apt install -y mongodb-mongosh\"\n",
        "    ]\n",
        "}\n",
        "\n",
        "SAMPLE_DBS_URL = \"https://github.com/neelabalan/mongodb-sample-dataset.git\"\n",
        "\n",
        "\n",
        "def exec_cmd(command: str) -> None:\n",
        "    \"\"\"\n",
        "    Execute a command and print error, if occurs\n",
        "    :param command: the command to execute\n",
        "    :return: None\n",
        "    \"\"\"\n",
        "    try:\n",
        "        subprocess.check_output(\n",
        "            f\"{command} > /dev/null\",\n",
        "            shell=True, stderr=subprocess.STDOUT\n",
        "        )\n",
        "    except (subprocess.CalledProcessError, Exception) as e:\n",
        "        raise RuntimeError(f\"Error with: {command}\\n: {e}\")\n",
        "\n",
        "\n",
        "def install_software(software: str) -> None:\n",
        "    \"\"\" Installs a given software \"\"\"\n",
        "    description = SOFTWARE_DESC.get(software)\n",
        "    commands = INSTALL_CMDS.get(software)\n",
        "\n",
        "    print(f\"Installing {description}...\")\n",
        "    try:\n",
        "        for cmd in commands:\n",
        "            exec_cmd(cmd)\n",
        "        print(f\"{description} is installed.\")\n",
        "    except RuntimeError as e:\n",
        "        print(f\"Error installing {description}: {e}\")\n",
        "\n",
        "\n",
        "def import_sample_datasets():\n",
        "    \"\"\" Clones the git repository with multiple sample datasets and imports them \"\"\"\n",
        "    local_clone = \"sample_dbs\"\n",
        "    print(\"Cloning git repository with the sample datasets...\")\n",
        "    clone_path = path.join(os.getcwd(), local_clone)\n",
        "    try:\n",
        "        if not path.exists(clone_path):\n",
        "            exec_cmd(f\"git clone {SAMPLE_DBS_URL} {local_clone}\")\n",
        "        else:\n",
        "            print(\"Skipping git clone as local repository seems to exist.\")\n",
        "            datasets = [f for f in os.listdir(local_clone)\n",
        "                        if not path.isfile(path.join(local_clone, f))]\n",
        "            for dataset in datasets:\n",
        "                dataset_path = path.join(clone_path, dataset)\n",
        "                print(f\"Importing dataset {dataset}...\")\n",
        "                for json_file in glob.glob(f\"{dataset_path}/*.json\"):\n",
        "                    collection = path.splitext(path.basename(json_file))[0]\n",
        "                    cmd = f\"mongoimport --drop --host localhost --port 27017 \" \\\n",
        "                          f\"--db {dataset} --collection {collection} --file {json_file}\"\n",
        "                    exec_cmd(cmd)\n",
        "        print(\"Finished importing the sample datasets.\")\n",
        "    except RuntimeError as e:\n",
        "        print(f\"Error importing sample databases: {e}\")\n",
        "\n",
        "\n",
        "install_software(\"mongodb\")\n",
        "install_software(\"mongodb_shell\")\n",
        "import_sample_datasets()\n"
      ],
      "metadata": {
        "id": "y1Dxqrl-YFrp"
      },
      "execution_count": null,
      "outputs": []
    },
    {
      "cell_type": "markdown",
      "source": [
        "## Installing the Classroom Extensions\n",
        "------------------\n",
        "\n",
        "We will install the extensions via pip+github:"
      ],
      "metadata": {
        "id": "fAyF0hKqmOBW"
      }
    },
    {
      "cell_type": "code",
      "source": [
        "!pip3 install git+https://github.com/assuncaomarcos/classroom_extensions.git"
      ],
      "metadata": {
        "id": "UYuDkzytmOq5"
      },
      "execution_count": null,
      "outputs": []
    },
    {
      "cell_type": "markdown",
      "source": [
        "Once the extensions are installed, you can load the `mongodb` extension to create the `%%mongo` and `%mongo_config` magics:"
      ],
      "metadata": {
        "id": "jeP9UgqmmQpG"
      }
    },
    {
      "cell_type": "code",
      "source": [
        "%load_ext classroom_extensions.mongodb"
      ],
      "metadata": {
        "id": "uzJHbzPtmeF5"
      },
      "execution_count": 3,
      "outputs": []
    },
    {
      "cell_type": "markdown",
      "source": [
        "## Running MongoDB Shell Commands\n",
        "------------------"
      ],
      "metadata": {
        "id": "H62Q9J3cmjJS"
      }
    },
    {
      "cell_type": "code",
      "source": [
        "%%mongo\n",
        "show databases;"
      ],
      "metadata": {
        "colab": {
          "base_uri": "https://localhost:8080/"
        },
        "id": "jPfDBclYmp4y",
        "outputId": "e12c7509-3166-4328-a0aa-8e002c03a9f0"
      },
      "execution_count": 7,
      "outputs": [
        {
          "output_type": "stream",
          "name": "stdout",
          "text": [
            "test> admin               32.00 KiB\n",
            "config              12.00 KiB\n",
            "local               32.00 KiB\n",
            "sample_airbnb        8.00 KiB\n",
            "sample_analytics    24.00 KiB\n",
            "sample_geospatial    1.45 MiB\n",
            "sample_mflix        40.00 KiB\n",
            "sample_supplies      1.26 MiB\n",
            "sample_training     64.41 MiB\n",
            "sample_weatherdata   5.23 MiB\n",
            "test> "
          ]
        }
      ]
    },
    {
      "cell_type": "code",
      "source": [
        "%%mongo\n",
        "use sample_geospatial;\n",
        "show collections;"
      ],
      "metadata": {
        "colab": {
          "base_uri": "https://localhost:8080/"
        },
        "id": "jxavS8Vgmr53",
        "outputId": "f06856d2-de75-4d1f-d627-64148e59ce07"
      },
      "execution_count": 8,
      "outputs": [
        {
          "output_type": "stream",
          "name": "stdout",
          "text": [
            "test> switched to db sample_geospatial\n",
            "sample_geospatial> shipwrecks\n",
            "sample_geospatial> "
          ]
        }
      ]
    },
    {
      "cell_type": "code",
      "source": [
        "%%mongo\n",
        "use sample_geospatial;\n",
        "db.shipwrecks.findOne({});"
      ],
      "metadata": {
        "colab": {
          "base_uri": "https://localhost:8080/"
        },
        "id": "NAmMBWFPm6CP",
        "outputId": "8b8e6706-6ed9-46d3-8f20-4c78d8fd1e0c"
      },
      "execution_count": 9,
      "outputs": [
        {
          "output_type": "stream",
          "name": "stdout",
          "text": [
            "test> switched to db sample_geospatial\n",
            "sample_geospatial> {\n",
            "  _id: ObjectId(\"578f6fa2df35c7fbdbaed8c5\"),\n",
            "  recrd: '',\n",
            "  vesslterms: '',\n",
            "  feature_type: 'Wrecks - Visible',\n",
            "  chart: 'US,U1,graph,DNC H1409860',\n",
            "  latdec: { '$numberDouble': '9.3340302' },\n",
            "  londec: { '$numberDouble': '-79.9357223' },\n",
            "  gp_quality: '',\n",
            "  depth: '',\n",
            "  sounding_type: '',\n",
            "  history: '',\n",
            "  quasou: '',\n",
            "  watlev: 'always dry',\n",
            "  coordinates: [\n",
            "    { '$numberDouble': '-79.9357223' },\n",
            "    { '$numberDouble': '9.3340302' }\n",
            "  ]\n",
            "}\n",
            "sample_geospatial> "
          ]
        }
      ]
    },
    {
      "cell_type": "code",
      "source": [],
      "metadata": {
        "id": "n54t_oNinakv"
      },
      "execution_count": null,
      "outputs": []
    }
  ]
}