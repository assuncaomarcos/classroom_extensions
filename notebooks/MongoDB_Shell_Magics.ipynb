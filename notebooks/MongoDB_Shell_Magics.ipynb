{
  "nbformat": 4,
  "nbformat_minor": 0,
  "metadata": {
    "colab": {
      "provenance": [],
      "toc_visible": true,
      "authorship_tag": "ABX9TyOd98mBwBzTOW0YokPOIEuW",
      "include_colab_link": true
    },
    "kernelspec": {
      "name": "python3",
      "display_name": "Python 3"
    },
    "language_info": {
      "name": "python"
    }
  },
  "cells": [
    {
      "cell_type": "markdown",
      "metadata": {
        "id": "view-in-github",
        "colab_type": "text"
      },
      "source": [
        "<a href=\"https://colab.research.google.com/github/assuncaomarcos/classroom_extensions/blob/main/notebooks/MongoDB_Shell_Magics.ipynb\" target=\"_parent\"><img src=\"https://colab.research.google.com/assets/colab-badge.svg\" alt=\"Open In Colab\"/></a>"
      ]
    },
    {
      "cell_type": "markdown",
      "source": [
        "# MongoDB Shell Magics\n",
        "-------\n",
        "\n",
        "This notebook demonstrates the MongoDB Shell magics (`%mongo_config` and `%%mongo`). The magic `%%mongo` has a straightforward execution. It creates a process running the `mongosh` and writes to its standard input, displaying the result of the execution in the cell. The magic `%mongo_config` is used to configure the `mongosh` parameters to avoid entering them every time `%%mongo` is used."
      ],
      "metadata": {
        "id": "JTL8WOsfWrkm"
      }
    },
    {
      "cell_type": "markdown",
      "source": [
        "## Installing the Classroom Extensions, MongoDB and Sample Databases\n",
        "------------------\n",
        "\n",
        "We will install the extensions via pip+github:"
      ],
      "metadata": {
        "id": "fAyF0hKqmOBW"
      }
    },
    {
      "cell_type": "code",
      "source": [
        "!pip3 install git+https://github.com/assuncaomarcos/classroom_extensions.git"
      ],
      "metadata": {
        "id": "UYuDkzytmOq5"
      },
      "execution_count": null,
      "outputs": []
    },
    {
      "cell_type": "markdown",
      "source": [
        "The following cells will use the `mongodb_install` extension to install MongoDB, the Mongo Shell and import a few sample databases:"
      ],
      "metadata": {
        "id": "Vcvc3b1KXiBr"
      }
    },
    {
      "cell_type": "code",
      "source": [
        "%load_ext classroom_extensions.mongodb_install"
      ],
      "metadata": {
        "id": "AnkOLr0FX5xM"
      },
      "execution_count": 2,
      "outputs": []
    },
    {
      "cell_type": "code",
      "source": [
        "%install_mongodb --sample_dbs"
      ],
      "metadata": {
        "colab": {
          "base_uri": "https://localhost:8080/"
        },
        "id": "0gC3U604X97p",
        "outputId": "3db936c5-1d84-456a-a4ea-361aba0747b7"
      },
      "execution_count": 3,
      "outputs": [
        {
          "output_type": "stream",
          "name": "stdout",
          "text": [
            "Installing MongoDB...\n",
            "MongoDB is installed.\n",
            "Waiting for a few seconds for MongoDB server to start...\n",
            "Cloning git repository with the sample datasets...\n",
            "Importing dataset sample_supplies...\n",
            "Importing dataset sample_mflix...\n",
            "Importing dataset sample_analytics...\n",
            "Importing dataset sample_training...\n",
            "Importing dataset sample_weatherdata...\n",
            "Importing dataset .git...\n",
            "Importing dataset sample_airbnb...\n",
            "Importing dataset sample_geospatial...\n",
            "Finished importing the sample datasets.\n"
          ]
        }
      ]
    },
    {
      "cell_type": "markdown",
      "source": [
        "Once the extensions are installed, you can load the `mongodb` extension to create the `%%mongo` and `%mongo_config` magics:"
      ],
      "metadata": {
        "id": "jeP9UgqmmQpG"
      }
    },
    {
      "cell_type": "code",
      "source": [
        "%load_ext classroom_extensions.mongodb"
      ],
      "metadata": {
        "id": "uzJHbzPtmeF5"
      },
      "execution_count": 4,
      "outputs": []
    },
    {
      "cell_type": "markdown",
      "source": [
        "## Running MongoDB Shell Commands\n",
        "------------------"
      ],
      "metadata": {
        "id": "H62Q9J3cmjJS"
      }
    },
    {
      "cell_type": "code",
      "source": [
        "%%mongo\n",
        "show databases;"
      ],
      "metadata": {
        "colab": {
          "base_uri": "https://localhost:8080/"
        },
        "id": "jPfDBclYmp4y",
        "outputId": "84bf2a6c-3bcb-4197-ab9f-47b95b3806b7"
      },
      "execution_count": 6,
      "outputs": [
        {
          "output_type": "stream",
          "name": "stdout",
          "text": [
            "test> admin                40.00 KiB\n",
            "config               12.00 KiB\n",
            "local                40.00 KiB\n",
            "sample_airbnb        52.10 MiB\n",
            "sample_analytics      9.40 MiB\n",
            "sample_geospatial   784.00 KiB\n",
            "sample_mflix         28.34 MiB\n",
            "sample_supplies     968.00 KiB\n",
            "sample_training      61.15 MiB\n",
            "sample_weatherdata    2.50 MiB\n",
            "test> "
          ]
        }
      ]
    },
    {
      "cell_type": "code",
      "source": [
        "%%mongo\n",
        "use sample_geospatial;\n",
        "show collections;"
      ],
      "metadata": {
        "colab": {
          "base_uri": "https://localhost:8080/"
        },
        "id": "jxavS8Vgmr53",
        "outputId": "acf46c4e-04c6-4906-c9dc-6f0c4298c286"
      },
      "execution_count": 7,
      "outputs": [
        {
          "output_type": "stream",
          "name": "stdout",
          "text": [
            "test> switched to db sample_geospatial\n",
            "sample_geospatial> shipwrecks\n",
            "sample_geospatial> "
          ]
        }
      ]
    },
    {
      "cell_type": "code",
      "source": [
        "%%mongo\n",
        "use sample_geospatial;\n",
        "db.shipwrecks.findOne({});"
      ],
      "metadata": {
        "colab": {
          "base_uri": "https://localhost:8080/"
        },
        "id": "NAmMBWFPm6CP",
        "outputId": "e6eda8a1-a76f-4b0d-961b-abd732f6c67e"
      },
      "execution_count": 8,
      "outputs": [
        {
          "output_type": "stream",
          "name": "stdout",
          "text": [
            "test> switched to db sample_geospatial\n",
            "sample_geospatial> {\n",
            "  _id: ObjectId(\"578f6fa2df35c7fbdbaed8c4\"),\n",
            "  recrd: '',\n",
            "  vesslterms: '',\n",
            "  feature_type: 'Wrecks - Visible',\n",
            "  chart: 'US,U1,graph,DNC H1409860',\n",
            "  latdec: 9.3547792,\n",
            "  londec: -79.9081268,\n",
            "  gp_quality: '',\n",
            "  depth: '',\n",
            "  sounding_type: '',\n",
            "  history: '',\n",
            "  quasou: '',\n",
            "  watlev: 'always dry',\n",
            "  coordinates: [ -79.9081268, 9.3547792 ]\n",
            "}\n",
            "sample_geospatial> "
          ]
        }
      ]
    },
    {
      "cell_type": "code",
      "source": [],
      "metadata": {
        "id": "n54t_oNinakv"
      },
      "execution_count": null,
      "outputs": []
    }
  ]
}