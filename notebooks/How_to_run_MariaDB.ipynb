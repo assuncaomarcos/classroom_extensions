{
  "nbformat": 4,
  "nbformat_minor": 0,
  "metadata": {
    "colab": {
      "provenance": [],
      "toc_visible": true,
      "authorship_tag": "ABX9TyMf1Ag/ilvB5Gy6Rpum5zHf",
      "include_colab_link": true
    },
    "kernelspec": {
      "name": "python3",
      "display_name": "Python 3"
    },
    "language_info": {
      "name": "python"
    }
  },
  "cells": [
    {
      "cell_type": "markdown",
      "metadata": {
        "id": "view-in-github",
        "colab_type": "text"
      },
      "source": [
        "<a href=\"https://colab.research.google.com/github/assuncaomarcos/classroom_extensions/blob/main/notebooks/How_to_run_MariaDB.ipynb\" target=\"_parent\"><img src=\"https://colab.research.google.com/assets/colab-badge.svg\" alt=\"Open In Colab\"/></a>"
      ]
    },
    {
      "cell_type": "markdown",
      "source": [
        "# MariaDB Extensions\n",
        "----------\n",
        "\n",
        "This notebook demonstrates how to use the MariaDB extensions."
      ],
      "metadata": {
        "id": "rhSJ8bPbj8bi"
      }
    },
    {
      "cell_type": "markdown",
      "source": [
        "## Installing the Classroom Extensions\n",
        "------------------\n",
        "\n",
        "We will install the extensions via pip+github:"
      ],
      "metadata": {
        "id": "xpzPalg0TwSd"
      }
    },
    {
      "cell_type": "code",
      "source": [
        "!pip3 install classroom-extensions"
      ],
      "metadata": {
        "id": "6hES_24ST9o9"
      },
      "execution_count": null,
      "outputs": []
    },
    {
      "cell_type": "markdown",
      "source": [
        "## Installing MariaDB\n",
        "-------------------\n",
        "\n",
        "Then you can load the `mariadb_install` extension to install MariaDB:"
      ],
      "metadata": {
        "id": "X0Ucc56jVFpq"
      }
    },
    {
      "cell_type": "code",
      "source": [
        "%load_ext classroom_extensions.mariadb_install"
      ],
      "metadata": {
        "id": "04zfbJ3RVGt5"
      },
      "execution_count": 2,
      "outputs": []
    },
    {
      "cell_type": "markdown",
      "source": [
        "You can use the line magic `%install_mariadb` to install MariaDB. With the `--pasword=yourpassword`, you can provide a password that the current user will employ to connect to the database. When provided, the `-sample_db` parameter will make the extension download and import a sample database with information about countries, continents, and demographics.  "
      ],
      "metadata": {
        "id": "sFV5r1xMVWjA"
      }
    },
    {
      "cell_type": "code",
      "source": [
        "%install_mariadb --password=passw0rd --sample_db"
      ],
      "metadata": {
        "colab": {
          "base_uri": "https://localhost:8080/"
        },
        "id": "5fzbcQ0TVt3R",
        "outputId": "85d989d5-f0f6-4096-dc0a-7e08a35f06d9"
      },
      "execution_count": 3,
      "outputs": [
        {
          "output_type": "stream",
          "name": "stdout",
          "text": [
            "Running apt update...\n",
            "Installing MariaDB...\n",
            "Installing required python packages...\n",
            "Waiting for a few seconds for MariaDB server to start...\n",
            "Importing nation database...\n",
            "Done.\n"
          ]
        }
      ]
    },
    {
      "cell_type": "markdown",
      "source": [
        "## Using MariaDB\n",
        "------------------"
      ],
      "metadata": {
        "id": "LatKWMmDVwm5"
      }
    },
    {
      "cell_type": "markdown",
      "source": [
        "To use MariaDB you need to load the `mariadb` extension:"
      ],
      "metadata": {
        "id": "5RYfngXeWHNq"
      }
    },
    {
      "cell_type": "code",
      "source": [
        "%load_ext classroom_extensions.mariadb"
      ],
      "metadata": {
        "id": "-AKqAmakWJWg"
      },
      "execution_count": 4,
      "outputs": []
    },
    {
      "cell_type": "markdown",
      "source": [
        "After loading this extension, you can use the cell magic `%%sql` to execute SQL commands:"
      ],
      "metadata": {
        "id": "k1uZ1BYqWMrK"
      }
    },
    {
      "cell_type": "code",
      "source": [
        "%%sql\n",
        "SHOW DATABASES;"
      ],
      "metadata": {
        "colab": {
          "base_uri": "https://localhost:8080/",
          "height": 160
        },
        "id": "ELonNvUob00d",
        "outputId": "04bffa0c-ed11-436d-c1c6-ddf218bb42cc"
      },
      "execution_count": 5,
      "outputs": [
        {
          "output_type": "display_data",
          "data": {
            "text/plain": [
              "<IPython.core.display.HTML object>"
            ],
            "text/html": [
              "<TABLE BORDER=1><TR><TH>Database</TH></TR><TR><TD>information_schema</TD></TR><TR><TD>mysql</TD></TR><TR><TD>nation</TD></TR><TR><TD>performance_schema</TD></TR><TR><TD>sys</TD></TR></TABLE>"
            ]
          },
          "metadata": {}
        }
      ]
    },
    {
      "cell_type": "markdown",
      "source": [
        "It is as though you were connecting via the CLI tool. To use the sample `nation` database:"
      ],
      "metadata": {
        "id": "G2WfugBHb3T4"
      }
    },
    {
      "cell_type": "code",
      "source": [
        "%%sql\n",
        "USE nation;"
      ],
      "metadata": {
        "colab": {
          "base_uri": "https://localhost:8080/",
          "height": 34
        },
        "id": "ZteQuL9ecjmY",
        "outputId": "9c8a6744-6dda-4424-b6cc-1b4e979f2d6d"
      },
      "execution_count": 6,
      "outputs": [
        {
          "output_type": "display_data",
          "data": {
            "text/plain": [
              "<IPython.core.display.HTML object>"
            ],
            "text/html": [
              "Query OK"
            ]
          },
          "metadata": {}
        }
      ]
    },
    {
      "cell_type": "code",
      "source": [
        "%%sql\n",
        "SHOW TABLES;"
      ],
      "metadata": {
        "colab": {
          "base_uri": "https://localhost:8080/",
          "height": 253
        },
        "id": "GDtz60XOclEg",
        "outputId": "0b4728fe-80d9-4304-d195-12eca9d5237f"
      },
      "execution_count": 7,
      "outputs": [
        {
          "output_type": "display_data",
          "data": {
            "text/plain": [
              "<IPython.core.display.HTML object>"
            ],
            "text/html": [
              "<TABLE BORDER=1><TR><TH>Tables_in_nation</TH></TR><TR><TD>continents</TD></TR><TR><TD>countries</TD></TR><TR><TD>country_languages</TD></TR><TR><TD>country_stats</TD></TR><TR><TD>guests</TD></TR><TR><TD>languages</TD></TR><TR><TD>region_areas</TD></TR><TR><TD>regions</TD></TR><TR><TD>vips</TD></TR></TABLE>"
            ]
          },
          "metadata": {}
        }
      ]
    },
    {
      "cell_type": "code",
      "source": [
        "%%sql\n",
        "SELECT c.* FROM countries c\n",
        "JOIN regions r ON c.region_id = r.region_id\n",
        "WHERE r.name = 'South America';"
      ],
      "metadata": {
        "colab": {
          "base_uri": "https://localhost:8080/",
          "height": 369
        },
        "id": "rhLN9bOFcsH5",
        "outputId": "85120e0d-e439-44d9-e03b-d8457c3d995b"
      },
      "execution_count": 8,
      "outputs": [
        {
          "output_type": "display_data",
          "data": {
            "text/plain": [
              "<IPython.core.display.HTML object>"
            ],
            "text/html": [
              "<TABLE BORDER=1><TR><TH>country_id</TH><TH>name</TH><TH>area</TH><TH>national_day</TH><TH>country_code2</TH><TH>country_code3</TH><TH>region_id</TH></TR><TR><TD>9</TD><TD>Argentina</TD><TD>2780400.00</TD><TD>1816-07-09</TD><TD>AR</TD><TD>ARG</TD><TD>6</TD></TR><TR><TD>30</TD><TD>Bolivia</TD><TD>1098581.00</TD><TD>1825-08-06</TD><TD>BO</TD><TD>BOL</TD><TD>6</TD></TR><TR><TD>31</TD><TD>Brazil</TD><TD>8547403.00</TD><TD>1822-09-07</TD><TD>BR</TD><TD>BRA</TD><TD>6</TD></TR><TR><TD>41</TD><TD>Chile</TD><TD>756626.00</TD><TD>1810-09-18</TD><TD>CL</TD><TD>CHL</TD><TD>6</TD></TR><TR><TD>48</TD><TD>Colombia</TD><TD>1138914.00</TD><TD>NULL</TD><TD>CO</TD><TD>COL</TD><TD>6</TD></TR><TR><TD>63</TD><TD>Ecuador</TD><TD>283561.00</TD><TD>1809-08-10</TD><TD>EC</TD><TD>ECU</TD><TD>6</TD></TR><TR><TD>72</TD><TD>Falkland Islands</TD><TD>12173.00</TD><TD>NULL</TD><TD>FK</TD><TD>FLK</TD><TD>6</TD></TR><TR><TD>90</TD><TD>French Guiana</TD><TD>90000.00</TD><TD>NULL</TD><TD>GF</TD><TD>GUF</TD><TD>6</TD></TR><TR><TD>92</TD><TD>Guyana</TD><TD>214969.00</TD><TD>1966-05-26</TD><TD>GY</TD><TD>GUY</TD><TD>6</TD></TR><TR><TD>168</TD><TD>Peru</TD><TD>1285216.00</TD><TD>1821-07-28</TD><TD>PE</TD><TD>PER</TD><TD>6</TD></TR><TR><TD>176</TD><TD>Paraguay</TD><TD>406752.00</TD><TD>1811-05-15</TD><TD>PY</TD><TD>PRY</TD><TD>6</TD></TR><TR><TD>198</TD><TD>Suriname</TD><TD>163265.00</TD><TD>1975-11-25</TD><TD>SR</TD><TD>SUR</TD><TD>6</TD></TR><TR><TD>223</TD><TD>Uruguay</TD><TD>175016.00</TD><TD>1825-08-25</TD><TD>UY</TD><TD>URY</TD><TD>6</TD></TR><TR><TD>228</TD><TD>Venezuela</TD><TD>912050.00</TD><TD>1811-07-05</TD><TD>VE</TD><TD>VEN</TD><TD>6</TD></TR></TABLE>"
            ]
          },
          "metadata": {}
        }
      ]
    },
    {
      "cell_type": "markdown",
      "source": [
        "## Connecting to MariaDB\n",
        "------------------------\n",
        "\n",
        "You can use Python or any of the languages accepted by your Jupyter kernel to connect to MariaDB:"
      ],
      "metadata": {
        "id": "wVtCrzoTc18C"
      }
    },
    {
      "cell_type": "code",
      "source": [
        "import mariadb\n",
        "import sys\n",
        "\n",
        "# Connect to MariaDB Platform\n",
        "try:\n",
        "    conn = mariadb.connect(\n",
        "        user=\"root\",\n",
        "        password=\"passw0rd\",\n",
        "        host=\"localhost\",\n",
        "        port=3306,\n",
        "        database=\"nation\",\n",
        "        connect_timeout=5000\n",
        "    )\n",
        "except mariadb.Error as e:\n",
        "    print(f\"Error connecting to MariaDB Platform: {e}\")\n",
        "    sys.exit(1)\n",
        "\n",
        "cur = conn.cursor()\n",
        "\n",
        "some_name = 'Un%'\n",
        "cur.execute(\n",
        "    \"SELECT name, national_day from countries WHERE name LIKE ? ORDER BY name DESC\",\n",
        "    (some_name,))\n",
        "\n",
        "for (name, national_day) in cur:\n",
        "    print(f\"Name: {name}, National Day: {national_day}\")"
      ],
      "metadata": {
        "colab": {
          "base_uri": "https://localhost:8080/"
        },
        "id": "_3gtqAvNdH1k",
        "outputId": "d32112c4-d96a-4d24-d46e-f5878ec5388a"
      },
      "execution_count": 9,
      "outputs": [
        {
          "output_type": "stream",
          "name": "stdout",
          "text": [
            "Name: United States Minor Outlying Islands, National Day: None\n",
            "Name: United States, National Day: 1776-07-04\n",
            "Name: United Kingdom, National Day: None\n",
            "Name: United Arab Emirates, National Day: 1971-12-02\n"
          ]
        }
      ]
    }
  ]
}